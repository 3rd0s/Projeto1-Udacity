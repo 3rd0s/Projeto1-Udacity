{
 "cells": [
  {
   "cell_type": "markdown",
   "metadata": {},
   "source": [
    "# Extração dos dados\n",
    "\n",
    "O Myers Briggs Type Indicator(MBTI) é um sistema de tipologia de personalidade no qual há 16 tipos possiveis de personalidade vindos de 4 características cada uma com 2 possibilidade:\n",
    "\n",
    "\n",
    "    Introversion (I) – Extroversion (E)\n",
    "    Intuition (N) – Sensing (S)\n",
    "    Thinking (T) – Feeling (F)\n",
    "    Judging (J) – Perceiving (P)\n",
    "    \n",
    "Se por exemplo uma pessoa tiver as características introversão, intuição, pensamento e percepção era será do tipo INTP. Esse sistema de tipologia foi criado com base no trabalho de Carl Jung, trabalho este que foi usado para vários sistemas de tipologia sendo o mais famoso o MBTI.\n",
    "\n",
    "O MBTI é alvo de diversas críticas sobre sua validade. Nesse trabalho espero notar se há realmente diferenças entre pessoas com base em seu resultado no MBTI contando a quantidade de palavras que a pessoa cita por sentença.\n",
    "\n",
    "Esse banco de dados contém 8600 linhas a quais cada linha representa um usuário do PersonalityCafe forum, a primeira coluna contém o tipo de personalidade MBTI da pessoa e a segunda os ultimos 50 posts desse usuário. O dataset pode ser encontrado no kaggle\n"
   ]
  },
  {
   "cell_type": "code",
   "execution_count": 1,
   "metadata": {
    "collapsed": true
   },
   "outputs": [],
   "source": [
    "%matplotlib inline\n",
    "import numpy as np\n",
    "import pandas as pd\n",
    "import seaborn as sns\n",
    "import matplotlib.pyplot as plt"
   ]
  },
  {
   "cell_type": "code",
   "execution_count": 2,
   "metadata": {},
   "outputs": [
    {
     "data": {
      "text/html": [
       "<div>\n",
       "<style>\n",
       "    .dataframe thead tr:only-child th {\n",
       "        text-align: right;\n",
       "    }\n",
       "\n",
       "    .dataframe thead th {\n",
       "        text-align: left;\n",
       "    }\n",
       "\n",
       "    .dataframe tbody tr th {\n",
       "        vertical-align: top;\n",
       "    }\n",
       "</style>\n",
       "<table border=\"1\" class=\"dataframe\">\n",
       "  <thead>\n",
       "    <tr style=\"text-align: right;\">\n",
       "      <th></th>\n",
       "      <th>type</th>\n",
       "      <th>posts</th>\n",
       "    </tr>\n",
       "  </thead>\n",
       "  <tbody>\n",
       "    <tr>\n",
       "      <th>0</th>\n",
       "      <td>INFJ</td>\n",
       "      <td>'http://www.youtube.com/watch?v=qsXHcwe3krw|||...</td>\n",
       "    </tr>\n",
       "    <tr>\n",
       "      <th>1</th>\n",
       "      <td>ENTP</td>\n",
       "      <td>'I'm finding the lack of me in these posts ver...</td>\n",
       "    </tr>\n",
       "    <tr>\n",
       "      <th>2</th>\n",
       "      <td>INTP</td>\n",
       "      <td>'Good one  _____   https://www.youtube.com/wat...</td>\n",
       "    </tr>\n",
       "    <tr>\n",
       "      <th>3</th>\n",
       "      <td>INTJ</td>\n",
       "      <td>'Dear INTP,   I enjoyed our conversation the o...</td>\n",
       "    </tr>\n",
       "    <tr>\n",
       "      <th>4</th>\n",
       "      <td>ENTJ</td>\n",
       "      <td>'You're fired.|||That's another silly misconce...</td>\n",
       "    </tr>\n",
       "  </tbody>\n",
       "</table>\n",
       "</div>"
      ],
      "text/plain": [
       "   type                                              posts\n",
       "0  INFJ  'http://www.youtube.com/watch?v=qsXHcwe3krw|||...\n",
       "1  ENTP  'I'm finding the lack of me in these posts ver...\n",
       "2  INTP  'Good one  _____   https://www.youtube.com/wat...\n",
       "3  INTJ  'Dear INTP,   I enjoyed our conversation the o...\n",
       "4  ENTJ  'You're fired.|||That's another silly misconce..."
      ]
     },
     "execution_count": 2,
     "metadata": {},
     "output_type": "execute_result"
    }
   ],
   "source": [
    "mbtiDB=pd.read_csv(\"dados/mbti_1.csv\")\n",
    "mbtiDB.head()"
   ]
  },
  {
   "cell_type": "code",
   "execution_count": 3,
   "metadata": {
    "collapsed": true
   },
   "outputs": [],
   "source": [
    "def CalcMeanWords(row):\n",
    "    words=[]\n",
    "    for post in row.split('|||'):\n",
    "        words += post.split()\n",
    "    return len(words)/50\n",
    "def CalcVarianceWords(row):\n",
    "    words=[]\n",
    "    for post in row.split('|||'):\n",
    "        words.append(len(post.split()))\n",
    "    return np.var(words)\n",
    "mbtiDB[\"num_words_per_post\"] = mbtiDB[\"posts\"].apply(CalcMeanWords)\n",
    "mbtiDB['variance_of_word_counts'] = mbtiDB['posts'].apply(CalcVarianceWords)\n"
   ]
  },
  {
   "cell_type": "code",
   "execution_count": 4,
   "metadata": {},
   "outputs": [
    {
     "data": {
      "text/html": [
       "<div>\n",
       "<style>\n",
       "    .dataframe thead tr:only-child th {\n",
       "        text-align: right;\n",
       "    }\n",
       "\n",
       "    .dataframe thead th {\n",
       "        text-align: left;\n",
       "    }\n",
       "\n",
       "    .dataframe tbody tr th {\n",
       "        vertical-align: top;\n",
       "    }\n",
       "</style>\n",
       "<table border=\"1\" class=\"dataframe\">\n",
       "  <thead>\n",
       "    <tr style=\"text-align: right;\">\n",
       "      <th></th>\n",
       "      <th>type</th>\n",
       "      <th>posts</th>\n",
       "      <th>num_words_per_post</th>\n",
       "      <th>variance_of_word_counts</th>\n",
       "    </tr>\n",
       "  </thead>\n",
       "  <tbody>\n",
       "    <tr>\n",
       "      <th>0</th>\n",
       "      <td>INFJ</td>\n",
       "      <td>'http://www.youtube.com/watch?v=qsXHcwe3krw|||...</td>\n",
       "      <td>12.10</td>\n",
       "      <td>135.2900</td>\n",
       "    </tr>\n",
       "    <tr>\n",
       "      <th>1</th>\n",
       "      <td>ENTP</td>\n",
       "      <td>'I'm finding the lack of me in these posts ver...</td>\n",
       "      <td>24.38</td>\n",
       "      <td>187.4756</td>\n",
       "    </tr>\n",
       "    <tr>\n",
       "      <th>2</th>\n",
       "      <td>INTP</td>\n",
       "      <td>'Good one  _____   https://www.youtube.com/wat...</td>\n",
       "      <td>17.70</td>\n",
       "      <td>180.6900</td>\n",
       "    </tr>\n",
       "    <tr>\n",
       "      <th>3</th>\n",
       "      <td>INTJ</td>\n",
       "      <td>'Dear INTP,   I enjoyed our conversation the o...</td>\n",
       "      <td>22.26</td>\n",
       "      <td>181.8324</td>\n",
       "    </tr>\n",
       "    <tr>\n",
       "      <th>4</th>\n",
       "      <td>ENTJ</td>\n",
       "      <td>'You're fired.|||That's another silly misconce...</td>\n",
       "      <td>20.32</td>\n",
       "      <td>196.4576</td>\n",
       "    </tr>\n",
       "  </tbody>\n",
       "</table>\n",
       "</div>"
      ],
      "text/plain": [
       "   type                                              posts  \\\n",
       "0  INFJ  'http://www.youtube.com/watch?v=qsXHcwe3krw|||...   \n",
       "1  ENTP  'I'm finding the lack of me in these posts ver...   \n",
       "2  INTP  'Good one  _____   https://www.youtube.com/wat...   \n",
       "3  INTJ  'Dear INTP,   I enjoyed our conversation the o...   \n",
       "4  ENTJ  'You're fired.|||That's another silly misconce...   \n",
       "\n",
       "   num_words_per_post  variance_of_word_counts  \n",
       "0               12.10                 135.2900  \n",
       "1               24.38                 187.4756  \n",
       "2               17.70                 180.6900  \n",
       "3               22.26                 181.8324  \n",
       "4               20.32                 196.4576  "
      ]
     },
     "execution_count": 4,
     "metadata": {},
     "output_type": "execute_result"
    }
   ],
   "source": [
    "mbtiDB.head()"
   ]
  },
  {
   "cell_type": "code",
   "execution_count": 4,
   "metadata": {
    "collapsed": true
   },
   "outputs": [],
   "source": [
    "MediaPorTipo=mbtiDB.groupby('type').mean()\n",
    "MediaTipos=mbtiDB.groupby('type').mean().mean()\n",
    "VarTipos=mbtiDB.groupby('type').mean().var()\n",
    "MediaPorTipo['num_words_per_post_normalized']=(MediaPorTipo['num_words_per_post']-\\\n",
    "                                    MediaTipos[\"num_words_per_post\"])/np.sqrt(VarTipos[\"num_words_per_post\"])\n",
    "#MediaPorTipo['variance_of_word_counts_normalized']=(MediaPorTipo['variance_of_word_counts']-\\\n",
    " #                                   MediaTipos[\"variance_of_word_counts\"])/np.sqrt(VarTipos[\"variance_of_word_counts\"])"
   ]
  },
  {
   "cell_type": "code",
   "execution_count": 5,
   "metadata": {
    "collapsed": true
   },
   "outputs": [],
   "source": [
    "MediaPorTipo.reset_index(inplace=True)"
   ]
  },
  {
   "cell_type": "markdown",
   "metadata": {},
   "source": [
    "Normalizei as médias em torno de zero usando unidades de desvio padrão para que fique mais evidente as variações entre cada tipo."
   ]
  },
  {
   "cell_type": "code",
   "execution_count": 6,
   "metadata": {},
   "outputs": [
    {
     "data": {
      "text/plain": [
       "<matplotlib.axes._subplots.AxesSubplot at 0x149fa4198518>"
      ]
     },
     "execution_count": 6,
     "metadata": {},
     "output_type": "execute_result"
    },
    {
     "data": {
      "image/png": "[encoded data removed]",
      "text/plain": [
       "<matplotlib.figure.Figure at 0x149fa4198710>"
      ]
     },
     "metadata": {},
     "output_type": "display_data"
    }
   ],
   "source": [
    "plt.figure(figsize=(15,10))\n",
    "sns.barplot(x = \"type\", y = \"num_words_per_post_normalized\", data = MediaPorTipo)"
   ]
  },
  {
   "cell_type": "markdown",
   "metadata": {},
   "source": [
    "## Agrupar por grupos\n",
    "\n",
    "O site 16 personalites divide as 16 personalidades em 4 grupos. A dos analistas, dos diplomatas, dos sentinelas e dos exploradores. Irei analisar como fica esses grupos ressaltados nesse gráfico"
   ]
  },
  {
   "cell_type": "code",
   "execution_count": 7,
   "metadata": {
    "collapsed": true
   },
   "outputs": [],
   "source": [
    "Analistas = [\"INTJ\",\"INTP\",\"ENTJ\",\"ENTP\"]\n",
    "Diplomatas = [\"INFJ\",\"INFP\",\"ENFJ\",\"ENFP\"]\n",
    "Sentinelas = [\"ISTJ\",\"ISFJ\",\"ESTJ\",\"ESFJ\"]\n",
    "Exploradores = [\"ESFP\",\"ISTP\",\"ISFP\",\"ESTP\"]\n",
    "Ordem=Exploradores+Analistas+Sentinelas+Diplomatas\n",
    "color=[\"brown\"]*4+[\"green\"]*4+[\"purple\"]*4+[\"blue\"]*4"
   ]
  },
  {
   "cell_type": "code",
   "execution_count": 8,
   "metadata": {},
   "outputs": [
    {
     "data": {
      "text/plain": [
       "<matplotlib.axes._subplots.AxesSubplot at 0x149f7952d9e8>"
      ]
     },
     "execution_count": 8,
     "metadata": {},
     "output_type": "execute_result"
    },
    {
     "data": {
      "image/png": "[encoded data removed]",
      "text/plain": [
       "<matplotlib.figure.Figure at 0x149f7952d358>"
      ]
     },
     "metadata": {},
     "output_type": "display_data"
    }
   ],
   "source": [
    "plt.figure(figsize=(15,10))\n",
    "sns.barplot(x = \"type\", y = \"num_words_per_post_normalized\", data = MediaPorTipo,order = Ordem,palette = color)"
   ]
  },
  {
   "cell_type": "markdown",
   "metadata": {},
   "source": [
    "Como pode se notar os exploradores estão ocupados explorando o mundo enquanto os diplomatas realmente são quem mais gosta de falar no fórum."
   ]
  },
  {
   "cell_type": "code",
   "execution_count": 9,
   "metadata": {
    "collapsed": true
   },
   "outputs": [],
   "source": [
    "MediaPorTipo.set_index('type', inplace = True)\n",
    "MediaPorTipo = MediaPorTipo.reindex(Ordem)\n",
    "MediaPorTipo.reset_index(inplace = True)\n",
    "DicionarioClasse = { \"INTJ\" : \"Analistas\", \"INTP\": \"Analistas\",\"ENTJ\": \"Analistas\",\"ENTP\" : \"Analistas\",\n",
    "\"INFJ\": \"Diplomatas\", \"INFP\": \"Diplomatas\", \"ENFJ\": \"Diplomatas\", \"ENFP\": \"Diplomatas\",\n",
    "\"ISTJ\": \"Sentinelas\",\"ISFJ\": \"Sentinelas\", \"ESTJ\": \"Sentinelas\", \"ESFJ\": \"Sentinelas\",\n",
    "\"ESFP\": \"Exploradores\", \"ISTP\": \"Exploradores\", \"ISFP\": \"Exploradores\", \"ESTP\": \"Exploradores\"}\n",
    "MediaPorTipo[\"Classe\"]=MediaPorTipo.apply(lambda x: DicionarioClasse[x[\"type\"]],axis=1)\n",
    "MediaPorTipo.rename(columns={'type': 'Tipo', 'num_words_per_post_normalized': 'Quantidade','num_words_per_post':'Quantidade de palavras' }, inplace=True)"
   ]
  },
  {
   "cell_type": "code",
   "execution_count": 10,
   "metadata": {
    "collapsed": true
   },
   "outputs": [],
   "source": [
    "MediaPorTipo.to_csv(\"dados/DadosParaGrafico.csv\")"
   ]
  },
  {
   "cell_type": "code",
   "execution_count": null,
   "metadata": {
    "collapsed": true
   },
   "outputs": [],
   "source": []
  },
  {
   "cell_type": "code",
   "execution_count": null,
   "metadata": {
    "collapsed": true
   },
   "outputs": [],
   "source": []
  }
 ],
 "metadata": {
  "kernelspec": {
   "display_name": "Python 3",
   "language": "python",
   "name": "python3"
  },
  "language_info": {
   "codemirror_mode": {
    "name": "ipython",
    "version": 3
   },
   "file_extension": ".py",
   "mimetype": "text/x-python",
   "name": "python",
   "nbconvert_exporter": "python",
   "pygments_lexer": "ipython3",
   "version": "3.6.4"
  }
 },
 "nbformat": 4,
 "nbformat_minor": 2
}
