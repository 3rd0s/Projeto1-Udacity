{
 "cells": [
  {
   "cell_type": "code",
   "execution_count": 3,
   "metadata": {},
   "outputs": [
    {
     "name": "stdout",
     "output_type": "stream",
     "text": [
      "osm: 52MB\n",
      "database: 29MB\n",
      "ways_nodes.csv: 6MB\n",
      "ways.csv: 2MB\n",
      "ways_tags.csv: 3MB\n",
      "nodes_tags.csv: 1MB\n",
      "nodes.csv: 18MB\n"
     ]
    }
   ],
   "source": [
    "import os\n",
    "statinfo=os.stat(\"GrandeFortaleza.osm\")\n",
    "print \"osm: \"+str(statinfo.st_size/1024/1024) + \"MB\"\n",
    "statinfo=os.stat(\"GrandeFortaleza.db\")\n",
    "print \"database: \"+str(statinfo.st_size/1024/1024) + \"MB\"\n",
    "statinfo=os.stat(\"ways_nodes.csv\")\n",
    "print \"ways_nodes.csv: \"+str(statinfo.st_size/1024/1024) + \"MB\"\n",
    "statinfo=os.stat(\"ways.csv\")\n",
    "print \"ways.csv: \"+str(statinfo.st_size/1024/1024) + \"MB\"\n",
    "statinfo=os.stat(\"ways_tags.csv\")\n",
    "print \"ways_tags.csv: \"+str(statinfo.st_size/1024/1024) + \"MB\"\n",
    "statinfo=os.stat(\"nodes_tags.csv\")\n",
    "print \"nodes_tags.csv: \"+str(statinfo.st_size/1024/1024) + \"MB\"\n",
    "statinfo=os.stat(\"nodes.csv\")\n",
    "print \"nodes.csv: \"+str(statinfo.st_size/1024/1024) + \"MB\""
   ]
  },
  {
   "cell_type": "code",
   "execution_count": null,
   "metadata": {
    "collapsed": true
   },
   "outputs": [],
   "source": []
  }
 ],
 "metadata": {
  "kernelspec": {
   "display_name": "Python 2",
   "language": "python",
   "name": "python2"
  },
  "language_info": {
   "codemirror_mode": {
    "name": "ipython",
    "version": 2
   },
   "file_extension": ".py",
   "mimetype": "text/x-python",
   "name": "python",
   "nbconvert_exporter": "python",
   "pygments_lexer": "ipython2",
   "version": "2.7.13"
  }
 },
 "nbformat": 4,
 "nbformat_minor": 2
}
