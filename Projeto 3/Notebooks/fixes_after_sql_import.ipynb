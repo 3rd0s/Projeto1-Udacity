{
 "cells": [
  {
   "cell_type": "markdown",
   "metadata": {},
   "source": [
    "Consertarei primeiro as chaves 'key' das tags"
   ]
  },
  {
   "cell_type": "code",
   "execution_count": 1,
   "metadata": {
    "collapsed": true
   },
   "outputs": [],
   "source": [
    "# -*- coding: utf-8 -*-\n",
    "import sqlite3\n",
    "import pprint\n",
    "import re\n",
    "import pprint\n",
    "\n",
    "Rnormal = re.compile(r'^([\\w\\. _])+',re.U)\n",
    "Rproblemchars = re.compile(r'[=\\+/&<>;\\'\"\\?%#$@\\,\\. \\t\\r\\n]')\n",
    "Ruppercase_incorrect=re.compile(r'[A-Z][A-Z]+',re.U)\n",
    "Rspace = re.compile(r'^([\\w\\. _])*[ ]',re.U)\n",
    "\n",
    "def update_problems_keys(name):\n",
    "    '''Função para corrigir os nomes nas colunas keys'''\n",
    "    if(Rproblemchars.search(name)!=None):\n",
    "        if(name==u'Unid.Hab'):\n",
    "            return u'unidade_habitacional'\n",
    "        elif(Rspace.search(name)!=None):\n",
    "            return Rspace.search(name).group()[:-1]+'_'+ name[(Rspace.search(name)).end():]\n",
    "        else:\n",
    "            print name+\" Problem\",Rspace.search(name)\n",
    "    if(not name.islower()):\n",
    "        if(name=='FID' or name=='IBGE' or name=='BR' or name=='CE'):\n",
    "            return name\n",
    "        elif(name==u'AProjetada'):\n",
    "            return u'área_projetada'\n",
    "        elif(name=='AConst'):\n",
    "            return u'área_construída'\n",
    "        elif(name=='GEOCODIGO'):\n",
    "            return u'geocodigo'    \n",
    "        elif(name=='UNIDADES_HABITACIONAIS'):\n",
    "            return u'unidades_habitacionais'        \n",
    "        else:\n",
    "            return name.lower()\n",
    "    return name\n",
    "db=sqlite3.connect(\"GrandeFortaleza.db\")\n",
    "c=db.cursor()\n",
    "QUERY=\"\"\"SELECT key,value FROM ways_tags;\"\"\"\n",
    "c.execute(QUERY)\n",
    "rows=c.fetchall()\n",
    "for key,valor in rows:\n",
    "    alterado=update_problems_keys(key)\n",
    " #   print alterado\n",
    "    if(key!=alterado):\n",
    "        CHANGE=\"UPDATE ways_tags SET key = replace(key, %s, %s);\" % (\"'\"+key+\"'\",\"'\"+alterado+\"'\")\n",
    "        print CHANGE\n",
    "        c.execute(CHANGE)\n",
    "QUERY=\"\"\"SELECT key,value FROM nodes_tags;\"\"\" \n",
    "c.execute(QUERY)\n",
    "rows=c.fetchall()\n",
    "for key,valor in rows:\n",
    "    alterado=update_problems_keys(key)    \n",
    "    update_problems_keys(key)\n",
    "    if(key!=alterado):\n",
    "        CHANGE=\"UPDATE nodes_tags SET key = replace(key, %s, %s);\" % (\"'\"+key+\"'\",\"'\"+alterado+\"'\")\n",
    "        print CHANGE\n",
    "        c.execute(CHANGE)\n",
    "db.commit()\n",
    "db.close()"
   ]
  },
  {
   "cell_type": "markdown",
   "metadata": {},
   "source": [
    "Agora que não temos mais valores estranhos nas chaves passarei para os endereços para fins educativos usarei outro método aqui. importarei como um dataframe do pandas. Alterarei o DataFrame e o reinserirei na database.\n"
   ]
  },
  {
   "cell_type": "code",
   "execution_count": 5,
   "metadata": {},
   "outputs": [],
   "source": [
    "import pandas as pd\n",
    "from collections import defaultdict\n",
    "street_type_re = re.compile(r'^\\b\\S+\\.?', re.IGNORECASE)\n",
    "\n",
    "R2problemchars = re.compile(r'[=\\+/&<>;\\'\"\\?%#$@\\,\\t\\r\\n]')\n",
    "expected = [u\"Rua\",u\"Avenida\",u\"Beco\",u\"Alameda\",u\"Acesso\",u\"Travessa\", u\"CE\",u\"BR\",u\"4º\",u'Campus',u'Praça','Vila']\n",
    "\n",
    "def audit_street_type(street_types, street_name):\n",
    "    \"\"\"Audita para verificar se falta algum prefixo\"\"\"\n",
    "    m = street_type_re.search(street_name)\n",
    "    if m:\n",
    "        street_type = m.group()\n",
    "        if street_type not in expected:\n",
    "            street_types[street_type].add(street_name)\n",
    "            \n",
    "            \n",
    "mapping = { u\"Av.\": u\"Avenida\",\n",
    "            u\"Av\": u\"Avenida\",\n",
    "            u\"Tv.\": u\"Travessa\",\n",
    "            u\"R.\": u\"Rua\",\n",
    "            u\"Ce\": u\"CE\",\n",
    "            u\"Br\": u\"BR\"\n",
    "            }\n",
    "def update_problems_addr(name):\n",
    "    '''Função para corrigir os nomes nas colunas value do tipo addr'''\n",
    "    name=name.title()\n",
    "    if(name==u'Costa Barros'):\n",
    "        return u'Avenida Costa Barros'\n",
    "    elif(name==u'Barbosa de Freitas'):\n",
    "        return u'Avenida Barbosa de Freitas'\n",
    "    elif(name==u'Joaquim Nabuco'):\n",
    "        return u'Rua Joaquim Nabuco'\n",
    "    elif(name==u'Eng\\xb0 Sandoval S\\xe1'):\n",
    "        return u'Rua Engenheiro Sandoval'\n",
    "    elif(name==u'2'):\n",
    "        return u'Rua 2'\n",
    "    elif(name==u'Alu\\xedsio Mamede'):\n",
    "        return u'Rua Aluísio Mamede'\n",
    "    elif(name==u'Titan'):\n",
    "        return u'Rua Titan'\n",
    "    elif(name==u'Washington Soares'):\n",
    "        return u'Avenida Washington Soares'    \n",
    "    elif(name==u'José Severino'):\n",
    "        return u'Rua José Severino'\n",
    "    elif(name==u'Rua Nove,'):\n",
    "        return u'Rua Nove'\n",
    "    elif(name==u'João Paula Costa'):\n",
    "        return u'Rua João Paula Costa'\n",
    "    elif(name==u'Maria Teixeira Joca'):\n",
    "        return u'Rua Maria Teixeira Joca'\n",
    "    elif(name==u'Santa Teresinha'):\n",
    "        return u'Rua Santa Teresinha'\n",
    "    elif(name==u'Santa Teresinha'):\n",
    "        return u'Rua Santa Teresinha'\n",
    "    elif(name==u'Alphaville Fortaleza'):\n",
    "        return u'Avenida Litorânea'\n",
    "    elif(street_type_re.search(name).group() not in expected):\n",
    "        rua = street_type_re.search(name)\n",
    "        print name\n",
    "        name= re.sub(street_type_re,mapping[rua.group()],name)\n",
    "    return name\n",
    "def audit_street(name):\n",
    "    db=sqlite3.connect(\"GrandeFortaleza.db\")\n",
    "    QUERY='SELECT * FROM '+name\n",
    "    nodes_tags=pd.read_sql(QUERY,db)\n",
    "    count=0\n",
    "    street_types = defaultdict(set)\n",
    "    for valor,tipo,chave in nodes_tags[['value', 'type','key']].values:\n",
    "        if(tipo=='addr'and chave=='street'):   \n",
    "            alterado=update_problems_addr(valor)\n",
    "            if(valor!=alterado):\n",
    "                nodes_tags['value'].values[count]=alterado\n",
    "            audit_street_type(street_types, alterado) \n",
    "        count+=1\n",
    "    nodes_tags.to_sql(name,db, if_exists='replace', index=False)\n",
    "    #print (street_types)\n",
    "    #print nodes_tags.head()\n",
    "    db.commit()\n",
    "    db.close()"
   ]
  },
  {
   "cell_type": "code",
   "execution_count": 6,
   "metadata": {
    "collapsed": true
   },
   "outputs": [],
   "source": [
    "audit_street(u'nodes_tags')"
   ]
  },
  {
   "cell_type": "markdown",
   "metadata": {
    "collapsed": true
   },
   "source": [
    "Farei o mesmo com o ways_tags agora."
   ]
  },
  {
   "cell_type": "code",
   "execution_count": 7,
   "metadata": {},
   "outputs": [
    {
     "name": "stdout",
     "output_type": "stream",
     "text": [
      "Ce 090\n"
     ]
    }
   ],
   "source": [
    "audit_street(u'ways_tags')"
   ]
  },
  {
   "cell_type": "markdown",
   "metadata": {},
   "source": [
    "O resultado Ce apesar de aparecer como se ainda estivesse errado somente está aí pois eu faço capitalize no inicio da análise. porém ele é corrigido logo depois de printado."
   ]
  },
  {
   "cell_type": "markdown",
   "metadata": {},
   "source": [
    "irei descartar agora as tags com 'key'=fixme"
   ]
  },
  {
   "cell_type": "code",
   "execution_count": 12,
   "metadata": {},
   "outputs": [],
   "source": [
    "db=sqlite3.connect(\"GrandeFortaleza.db\")\n",
    "c=db.cursor()\n",
    "CHANGE=\"DELETE FROM ways_tags WHERE key='fixme';\"\n",
    "c.execute(CHANGE)\n",
    "CHANGE=\"DELETE FROM nodes_tags WHERE key='fixme';\"\n",
    "c.execute(CHANGE)\n",
    "db.commit()\n",
    "db.close()"
   ]
  },
  {
   "cell_type": "code",
   "execution_count": null,
   "metadata": {
    "collapsed": true
   },
   "outputs": [],
   "source": []
  }
 ],
 "metadata": {
  "kernelspec": {
   "display_name": "Python 2",
   "language": "python",
   "name": "python2"
  },
  "language_info": {
   "codemirror_mode": {
    "name": "ipython",
    "version": 2
   },
   "file_extension": ".py",
   "mimetype": "text/x-python",
   "name": "python",
   "nbconvert_exporter": "python",
   "pygments_lexer": "ipython2",
   "version": "2.7.13"
  }
 },
 "nbformat": 4,
 "nbformat_minor": 2
}
