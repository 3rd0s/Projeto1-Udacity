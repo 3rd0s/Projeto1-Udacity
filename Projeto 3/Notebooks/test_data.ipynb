{
 "cells": [
  {
   "cell_type": "markdown",
   "metadata": {},
   "source": [
    "# Código para Verificar o Arquivo Xml por Erros"
   ]
  },
  {
   "cell_type": "code",
   "execution_count": 2,
   "metadata": {},
   "outputs": [
    {
     "name": "stdout",
     "output_type": "stream",
     "text": [
      "defaultdict(<type 'int'>, {'node': 220814, 'nd': 302069, 'bounds': 1, 'member': 6949, 'tag': 139721, 'relation': 1526, 'way': 44496, 'osm': 1})\n"
     ]
    }
   ],
   "source": [
    "# -*- coding: utf-8 -*-\n",
    "\"\"\"\n",
    "Spyder Editor\n",
    "\n",
    "This is a temporary script file.\n",
    "\"\"\"\n",
    "\n",
    "import xml.etree.cElementTree as ET\n",
    "import pprint\n",
    "from collections import defaultdict\n",
    "\n",
    "#função para contagem de tags presentes\n",
    "def count_tags(filename):\n",
    "    dicionario=defaultdict(int)\n",
    "    for event, elem in ET.iterparse(filename):\n",
    "        dicionario[elem.tag]+=1\n",
    "    return dicionario\n",
    "\n",
    "\n",
    "#analisar as tags presentes\n",
    "tags = count_tags('GrandeFortaleza.osm')\n",
    "pprint.pprint(tags)\n"
   ]
  },
  {
   "cell_type": "markdown",
   "metadata": {},
   "source": [
    "o osm é simplesmente a linha que define a versão do mapa e bounds é o definidor da região que estou a analisar. way, node e relation são os 3 tipos basicos 'nd' são os nós definidores de uma way. tags são características da tag superior. e a member define os membros de uma relação. Logo as tags estão ok."
   ]
  },
  {
   "cell_type": "code",
   "execution_count": 3,
   "metadata": {},
   "outputs": [
    {
     "name": "stdout",
     "output_type": "stream",
     "text": [
      "{'problemchars': 213, 'normal_colon': 25923, 'other': 228, 'upper': 1354, 'normal': 113357}\n"
     ]
    }
   ],
   "source": [
    "import re\n",
    "normal = re.compile(r'^([a-z]|_)*$',re.IGNORECASE)\n",
    "normal_colon = re.compile(r'^([a-z]|_)*:([a-z]|_)*$',re.IGNORECASE)\n",
    "problemchars = re.compile(r'[=\\+/&<>;\\'\"\\?%#$@\\,\\. \\t\\r\\n]')\n",
    "uppercase_incorrect=re.compile(\"[A-Z][A-Z]+\")\n",
    "\n",
    "problem=[]\n",
    "other=[]\n",
    "upper=[]\n",
    "def key_type(element, keys):\n",
    "    if element.tag == \"tag\":\n",
    "        if  uppercase_incorrect.search(element.attrib[\"k\"]):\n",
    "            upper.append(element.attrib[\"k\"])\n",
    "            keys[\"upper\"]+=1\n",
    "        if  normal.match(element.attrib[\"k\"])!=None:\n",
    "            keys[\"normal\"]+=1\n",
    "        elif  normal_colon.match(element.attrib[\"k\"])!=None:\n",
    "            keys[\"normal_colon\"]+=1\n",
    "        elif  problemchars.search(element.attrib[\"k\"])!=None:\n",
    "            keys[\"problemchars\"]+=1\n",
    "            problem.append(element.attrib[\"k\"])\n",
    "        else:\n",
    "            keys[\"other\"]+=1\n",
    "            other.append(element.attrib[\"k\"])\n",
    "    return keys\n",
    "\n",
    "\n",
    "\n",
    "def process_map(filename):\n",
    "    keys = {\"normal\": 0, \"normal_colon\": 0, \"problemchars\": 0, \"other\": 0, \"upper\": 0}\n",
    "    for _, element in ET.iterparse(filename):\n",
    "        keys = key_type(element, keys)\n",
    "\n",
    "    return keys\n",
    "\n",
    "print (process_map('GrandeFortaleza.osm'))"
   ]
  },
  {
   "cell_type": "markdown",
   "metadata": {},
   "source": [
    "tivemos uma boa quantidade de caractéres mínusculos com ou sem dois pontos. Eles já foram trabalhados nos exercícios e num primeiro momento estão ok. Irei investigar os problemchars e os other agora."
   ]
  },
  {
   "cell_type": "code",
   "execution_count": 4,
   "metadata": {},
   "outputs": [
    {
     "name": "stdout",
     "output_type": "stream",
     "text": [
      "['Testada 2',\n",
      " 'Profundidade 2',\n",
      " 'Testada 2',\n",
      " 'Profundidade 2',\n",
      " 'Testada 2',\n",
      " 'Profundidade 2',\n",
      " 'Testada 1',\n",
      " 'Testada 2',\n",
      " 'Profundidade 1',\n",
      " 'Profundidade 2']\n"
     ]
    }
   ],
   "source": [
    "    pprint.pprint(problem[:10])"
   ]
  },
  {
   "cell_type": "markdown",
   "metadata": {},
   "source": [
    "Como foi somente em alguns acredito que possa ser consertado. grande parte é só espaço vazio e uma abreviação simples Unid.Hab.\n"
   ]
  },
  {
   "cell_type": "markdown",
   "metadata": {},
   "source": [
    "já para o outro caso."
   ]
  },
  {
   "cell_type": "code",
   "execution_count": 5,
   "metadata": {},
   "outputs": [
    {
     "name": "stdout",
     "output_type": "stream",
     "text": [
      "['seamark:light:range',\n",
      " 'seamark:light:colour',\n",
      " 'seamark:light:height',\n",
      " 'seamark:light:period',\n",
      " 'seamark:light:character',\n",
      " 'seamark:light:reference',\n",
      " 'seamark:light:range',\n",
      " 'seamark:light:colour',\n",
      " 'seamark:light:height',\n",
      " 'seamark:light:character']\n"
     ]
    }
   ],
   "source": [
    "    pprint.pprint(other[:10])"
   ]
  },
  {
   "cell_type": "markdown",
   "metadata": {},
   "source": [
    "Os com 2 :  grande parte dos casos vem de coisas como o seamark que são tipos especificos de chaves."
   ]
  },
  {
   "cell_type": "code",
   "execution_count": 6,
   "metadata": {},
   "outputs": [
    {
     "name": "stdout",
     "output_type": "stream",
     "text": [
      "['IBGE:GEOCODIGO',\n",
      " 'IBGE:GEOCODIGO',\n",
      " 'IBGE:GEOCODIGO',\n",
      " 'IBGE:GEOCODIGO',\n",
      " 'IBGE:GEOCODIGO',\n",
      " 'IBGE:GEOCODIGO',\n",
      " 'IBGE:GEOCODIGO',\n",
      " 'IBGE:GEOCODIGO',\n",
      " 'IBGE:GEOCODIGO',\n",
      " 'IBGE:GEOCODIGO',\n",
      " 'UNIDADES HABITACIONAIS',\n",
      " 'FID',\n",
      " 'FID',\n",
      " 'FID',\n",
      " 'FID']\n"
     ]
    }
   ],
   "source": [
    "pprint.pprint(upper[:15])"
   ]
  },
  {
   "cell_type": "markdown",
   "metadata": {},
   "source": [
    "grande parte é só transformar maisculas e minúsculas. a APROJETADA tem que ser transformado em Área Projetada também há siglas como FID que tem que ser descoberto o sentido e transformado ou não nele."
   ]
  },
  {
   "cell_type": "markdown",
   "metadata": {},
   "source": [
    "Analizarei prelinariamente agora o código postal"
   ]
  },
  {
   "cell_type": "code",
   "execution_count": 14,
   "metadata": {},
   "outputs": [
    {
     "name": "stdout",
     "output_type": "stream",
     "text": [
      "{'k': 'addr:postcode', 'v': '60115-280'}\n",
      "{'k': 'addr:postcode', 'v': '60115-280'}\n",
      "{'k': 'addr:postcode', 'v': '60115-080'}\n",
      "{'k': 'addr:postcode', 'v': '60115-080'}\n",
      "{'k': 'addr:postcode', 'v': '60160-150'}\n",
      "{'k': 'addr:postcode', 'v': '60160-150'}\n",
      "{'k': 'addr:postcode', 'v': '60150-161'}\n",
      "{'k': 'addr:postcode', 'v': '60150-161'}\n",
      "{'k': 'addr:postcode', 'v': '60060-130'}\n",
      "{'k': 'addr:postcode', 'v': '60060-130'}\n",
      "{'k': 'addr:postcode', 'v': '60165070'}\n",
      "{'k': 'addr:postcode', 'v': '60165070'}\n",
      "{'k': 'addr:postcode', 'v': '60020-110'}\n",
      "{'k': 'addr:postcode', 'v': '60020-110'}\n",
      "{'k': 'addr:postcode', 'v': '60822-131'}\n",
      "{'k': 'addr:postcode', 'v': '60822-131'}\n",
      "{'k': 'addr:postcode', 'v': '60822-530'}\n",
      "{'k': 'addr:postcode', 'v': '60822-530'}\n",
      "{'k': 'addr:postcode', 'v': '60140-100'}\n",
      "{'k': 'addr:postcode', 'v': '60140-100'}\n"
     ]
    }
   ],
   "source": [
    "count=0\n",
    "for _, element in ET.iterparse('GrandeFortaleza.osm'):\n",
    "    for elem in element.iter('tag'):\n",
    "        if elem.attrib['k']=='addr:postcode' or elem.attrib['k']=='postcode':\n",
    "            print elem.attrib\n",
    "            count+=1\n",
    "    if(count==20):\n",
    "        break"
   ]
  },
  {
   "cell_type": "markdown",
   "metadata": {},
   "source": [
    "encontrei tanto no formato com hífem quanto sem hífem. irei retirar o hífem na análise. Os resultados foram curiosamente poucos.\n",
    "\n",
    "analisarei agora o id"
   ]
  },
  {
   "cell_type": "code",
   "execution_count": 9,
   "metadata": {},
   "outputs": [
    {
     "name": "stdout",
     "output_type": "stream",
     "text": [
      "265310 265310\n"
     ]
    }
   ],
   "source": [
    "count1=0\n",
    "unicos=set()\n",
    "for _, element in ET.iterparse('GrandeFortaleza.osm'):\n",
    "    if(element.tag=='node' or element.tag=='way'):\n",
    "        count1+=1\n",
    "        unicos.add(element.attrib[\"id\"])\n",
    "print count1,len(unicos)"
   ]
  },
  {
   "cell_type": "markdown",
   "metadata": {},
   "source": [
    "todas as id são únicas"
   ]
  },
  {
   "cell_type": "markdown",
   "metadata": {},
   "source": [
    "Para terminar olhar os dados com o nome 'fixme'"
   ]
  },
  {
   "cell_type": "code",
   "execution_count": 15,
   "metadata": {},
   "outputs": [
    {
     "name": "stdout",
     "output_type": "stream",
     "text": [
      "{'k': 'fixme', 'v': u'provavelmente est\\xe1 com tag errada'}\n",
      "{'k': 'fixme', 'v': u'provavelmente est\\xe1 com tag errada'}\n",
      "{'k': 'fixme', 'v': u'Dado coletado h\\xe1 muito tempo, aparentemente mudou o nome, mas permanece uma bicicletaria..'}\n",
      "{'k': 'fixme', 'v': u'Dado coletado h\\xe1 muito tempo, aparentemente mudou o nome, mas permanece uma bicicletaria..'}\n",
      "{'k': 'fixme', 'v': 'nome da rua parece errado, talvez seja um nome local'}\n",
      "{'k': 'fixme', 'v': 'nome da rua parece errado, talvez seja um nome local'}\n",
      "{'k': 'fixme', 'v': 'melhorar posicionamento'}\n",
      "{'k': 'fixme', 'v': 'melhorar posicionamento'}\n",
      "{'k': 'fixme', 'v': 'limite aparentemente no local errado'}\n",
      "{'k': 'fixme', 'v': 'limite aparentemente no local errado'}\n",
      "{'k': 'fixme', 'v': u'Ajustar contorno \\xe0 \\xe1rea onde predominam moradias vizinhas.'}\n",
      "{'k': 'fixme', 'v': u'Ajustar contorno \\xe0 \\xe1rea onde predominam moradias vizinhas.'}\n",
      "{'k': 'fixme', 'v': u'Ajustar contorno \\xe0 \\xe1rea onde predominam moradias vizinhas. Melhorar nome ap\\xf3s h\\xedfens: se nome alternativo bote em alt_name; remova se usado s\\xf3 pelo IBGE; se denotar v\\xe1rias vilas, quebre em \\xe1reas distintas ou bote o prefixo Vila em cada nome.'}\n",
      "{'k': 'fixme', 'v': u'Ajustar contorno \\xe0 \\xe1rea onde predominam moradias vizinhas. Melhorar nome ap\\xf3s h\\xedfens: se nome alternativo bote em alt_name; remova se usado s\\xf3 pelo IBGE; se denotar v\\xe1rias vilas, quebre em \\xe1reas distintas ou bote o prefixo Vila em cada nome.'}\n",
      "{'k': 'fixme', 'v': u'Ajustar contorno \\xe0 \\xe1rea onde predominam moradias vizinhas.'}\n",
      "{'k': 'fixme', 'v': u'Ajustar contorno \\xe0 \\xe1rea onde predominam moradias vizinhas.'}\n",
      "{'k': 'fixme', 'v': u'Ajustar contorno \\xe0 \\xe1rea onde predominam moradias vizinhas.'}\n",
      "{'k': 'fixme', 'v': u'Ajustar contorno \\xe0 \\xe1rea onde predominam moradias vizinhas.'}\n",
      "{'k': 'fixme', 'v': u'Ajustar contorno \\xe0 \\xe1rea onde predominam moradias vizinhas.'}\n",
      "{'k': 'fixme', 'v': u'Ajustar contorno \\xe0 \\xe1rea onde predominam moradias vizinhas.'}\n"
     ]
    }
   ],
   "source": [
    "count=0\n",
    "for _, element in ET.iterparse('GrandeFortaleza.osm'):\n",
    "    for elem in element.iter('tag'):\n",
    "        if elem.attrib['k']=='fixme':\n",
    "            print elem.attrib\n",
    "            count+=1\n",
    "    if(count==20):\n",
    "        break            "
   ]
  },
  {
   "cell_type": "markdown",
   "metadata": {},
   "source": [
    "Para terminar vou verificar o nome das ruas."
   ]
  },
  {
   "cell_type": "code",
   "execution_count": 16,
   "metadata": {},
   "outputs": [
    {
     "name": "stdout",
     "output_type": "stream",
     "text": [
      "{'k': 'addr:street', 'v': 'Rua Nestor Barbosa'}\n",
      "{'k': 'addr:street', 'v': 'Rua Nestor Barbosa'}\n",
      "{'k': 'addr:street', 'v': 'Rua Padre Anchieta'}\n",
      "{'k': 'addr:street', 'v': 'Rua Padre Anchieta'}\n",
      "{'k': 'addr:street', 'v': 'Avenida Santos Dumont'}\n",
      "{'k': 'addr:street', 'v': 'Avenida Santos Dumont'}\n",
      "{'k': 'addr:street', 'v': u'Avenida Bar\\xe3o de Studart'}\n",
      "{'k': 'addr:street', 'v': u'Avenida Bar\\xe3o de Studart'}\n",
      "{'k': 'addr:street', 'v': u'Rua Visconde de Mau\\xe1'}\n",
      "{'k': 'addr:street', 'v': u'Rua Visconde de Mau\\xe1'}\n",
      "{'k': 'addr:street', 'v': u'Rua Maria Tom\\xe1sia'}\n",
      "{'k': 'addr:street', 'v': u'Rua Maria Tom\\xe1sia'}\n",
      "{'k': 'addr:street', 'v': u'Rua Doutor Jos\\xe9 Louren\\xe7o'}\n",
      "{'k': 'addr:street', 'v': u'Rua Doutor Jos\\xe9 Louren\\xe7o'}\n",
      "{'k': 'addr:street', 'v': u'Avenida Bar\\xe3o de Studart'}\n",
      "{'k': 'addr:street', 'v': u'Avenida Bar\\xe3o de Studart'}\n",
      "{'k': 'addr:street', 'v': u'Avenida Bar\\xe3o de Studart'}\n",
      "{'k': 'addr:street', 'v': u'Avenida Bar\\xe3o de Studart'}\n",
      "{'k': 'addr:street', 'v': u'Rua Tenente Ben\\xe9volo'}\n",
      "{'k': 'addr:street', 'v': u'Rua Tenente Ben\\xe9volo'}\n"
     ]
    }
   ],
   "source": [
    "count=0\n",
    "for _, element in ET.iterparse('GrandeFortaleza.osm'):\n",
    "    for elem in element.iter('tag'):\n",
    "        if (elem.attrib['k'] == \"addr:street\"):\n",
    "            print elem.attrib\n",
    "            count+=1\n",
    "    if(count==20):\n",
    "        break"
   ]
  },
  {
   "cell_type": "markdown",
   "metadata": {},
   "source": [
    "analisando no olho não notei erros. Logo irei fazer uma procura pelos tipos de rua."
   ]
  },
  {
   "cell_type": "code",
   "execution_count": 12,
   "metadata": {},
   "outputs": [
    {
     "name": "stdout",
     "output_type": "stream",
     "text": [
      "{'2': set(['2']),\n",
      " 'AV': set(['AV JOAQUIM LOPES DE ABREU']),\n",
      " 'Alphaville': set(['Alphaville Fortaleza']),\n",
      " u'Alu\\xedsio': set([u'Alu\\xedsio Mamede']),\n",
      " 'Av': set([u'Av Santa Cec\\xedlia', 'Av Washington Soares']),\n",
      " 'Av.': set(['Av. Beira-Mar',\n",
      "             'Av. Dr. Almir Pinto',\n",
      "             u'Av. Her\\xf3is do Acre',\n",
      "             'Av. Leite Barbosa',\n",
      "             'Av. Washington Soares',\n",
      "             u'Av. Zez\\xe9 Diogo']),\n",
      " 'Barbosa': set(['Barbosa de Freitas']),\n",
      " 'Campus': set(['Campus do Pici', 'Campus do Pici - UFC']),\n",
      " 'Costa': set(['Costa Barros']),\n",
      " u'Eng\\xb0': set([u'Eng\\xb0 Sandoval S\\xe1']),\n",
      " 'Joaquim': set(['Joaquim Nabuco']),\n",
      " u'Jos\\xe9': set([u'Jos\\xe9 Severino']),\n",
      " u'Jo\\xe3o': set([u'Jo\\xe3o Paula Costa']),\n",
      " 'Maria': set(['Maria Teixeira Joca']),\n",
      " u'Pra\\xe7a': set([u'Pra\\xe7a Pelotas']),\n",
      " u'R.': set([u'R. Prof. Jos\\xe9 Henrique da Silva',\n",
      "             u'R. Santa Rita das Causas Imposs\\xedveis']),\n",
      " 'Santa': set(['Santa Teresinha']),\n",
      " 'Titan': set(['Titan']),\n",
      " 'Tv.': set(['Tv. Guanabara']),\n",
      " 'VILA': set(['VILA CAMINHA']),\n",
      " 'Washington': set(['Washington Soares'])}\n"
     ]
    }
   ],
   "source": [
    "street_type_re = re.compile(r'^\\b\\S+\\.?', re.IGNORECASE)\n",
    "expected = [\"Rua\",\"Avenida\",\"Beco\",\"Alameda\",\"Acesso\",\"Travessa\", \"CE\"]\n",
    "\n",
    "def audit_street_type(street_types, street_name):\n",
    "    m = street_type_re.search(street_name)\n",
    "    if m:\n",
    "        street_type = m.group()\n",
    "        if street_type not in expected:\n",
    "            street_types[street_type].add(street_name)\n",
    "            \n",
    "def audit(osmfile):\n",
    "    osm_file = open(osmfile, \"r\")\n",
    "    street_types = defaultdict(set)\n",
    "    for event, elem in ET.iterparse(osm_file, events=(\"start\",)):\n",
    "        if elem.tag == \"node\" or elem.tag == \"way\":\n",
    "            for tag in elem.iter(\"tag\"):\n",
    "                if (tag.attrib['k'] == \"addr:street\"):\n",
    "                    audit_street_type(street_types, tag.attrib['v'])\n",
    "    osm_file.close()\n",
    "    return street_types\n",
    "st_types = audit('GrandeFortaleza.osm')\n",
    "pprint.pprint(dict(st_types))"
   ]
  },
  {
   "cell_type": "markdown",
   "metadata": {},
   "source": [
    "Ao contrário da auditoria no olho foi detectado vários problemas nas ruas também"
   ]
  },
  {
   "cell_type": "code",
   "execution_count": 21,
   "metadata": {
    "collapsed": true
   },
   "outputs": [],
   "source": [
    "teste = re.compile(r'[\\,]', re.IGNORECASE)\n",
    "for _, element in ET.iterparse('GrandeFortaleza.osm'):\n",
    "    for elem in element.iter('tag'):\n",
    "        if (teste.search(elem.attrib['k'])!=None ) :\n",
    "            print elem.attrib['k']"
   ]
  },
  {
   "cell_type": "markdown",
   "metadata": {},
   "source": [
    "Não há vírgulas no arquivo. Logo é seguro usar elas como o limitador no csv."
   ]
  }
 ],
 "metadata": {
  "kernelspec": {
   "display_name": "Python 2",
   "language": "python",
   "name": "python2"
  },
  "language_info": {
   "codemirror_mode": {
    "name": "ipython",
    "version": 2
   },
   "file_extension": ".py",
   "mimetype": "text/x-python",
   "name": "python",
   "nbconvert_exporter": "python",
   "pygments_lexer": "ipython2",
   "version": "2.7.13"
  }
 },
 "nbformat": 4,
 "nbformat_minor": 2
}
