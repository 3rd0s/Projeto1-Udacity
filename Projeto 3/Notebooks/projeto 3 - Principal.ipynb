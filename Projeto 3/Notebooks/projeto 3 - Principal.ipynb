{
 "cells": [
  {
   "cell_type": "markdown",
   "metadata": {},
   "source": [
    "# OpenStreetMap Data Case Study"
   ]
  },
  {
   "cell_type": "markdown",
   "metadata": {},
   "source": [
    "## Área estudada"
   ]
  },
  {
   "cell_type": "markdown",
   "metadata": {},
   "source": [
    "Foi estudada a Região Metropolitana de Fortaleza, que compreende os munícipios de Fortaleza, Caucaia, Maranguape, Pacatuba e Aquiraz.\n",
    "\n",
    "https://www.openstreetmap.org/relation/5161802#map=10/-3.9177/-38.3986\n",
    "\n",
    "A escolha foi motivada por ser a região que vivo e portanto me interessa mais contribuir para essa região."
   ]
  },
  {
   "cell_type": "markdown",
   "metadata": {},
   "source": [
    "## Primeira Análise de Problemas no Xml"
   ]
  },
  {
   "cell_type": "markdown",
   "metadata": {
    "collapsed": true
   },
   "source": [
    "A primeira análise aconteceu no notebook test_data.ipynb\n",
    "\n",
    "em especial nas tags foi notado somente as esperadas também foi verificado as ID e todas são únicas. Mas alguns problemas iniciais foram notados:\n",
    "\n",
    "* No atributo 'k' das tags(a chave) foi notado inconsistências. Como: Uso incorreto das letras maiúsculas, espaços, abreviações, dentre outros casos isolados.('IBGE:GEOCODIGO')\n",
    "\n",
    "* Também no atributo 'k' foi encontrado casos de dois pontos.(seamark:landmark:category) Definiremos que a primeira palavra diz o tipo da tag.\n",
    "\n",
    "* Foi também visto tags com 'k'='fixme' que demandam correções. Essas serão descartadas.\n",
    "\n",
    "* Nas ruas alguns nomes errados e abreviações.\n",
    "\n",
    "\n",
    "Irei resolver apenas os problemas que influem na mudança para o SQL. Deixando para consertar nele o resto dos problemas."
   ]
  },
  {
   "cell_type": "markdown",
   "metadata": {},
   "source": [
    "<tag k=\"seamark:tank:category\" v=\"tank\"/>\n",
    "<tag k=\"IBGE:GEOCODIGO\" v=\"2307700\"/>"
   ]
  },
  {
   "cell_type": "markdown",
   "metadata": {
    "collapsed": true
   },
   "source": [
    "## Nome dos atributos key nas tags"
   ]
  },
  {
   "cell_type": "markdown",
   "metadata": {},
   "source": [
    "Já com os dados devidamente colocados no SQL foi análisado novamente os erros na, agora, coluna 'key'\n",
    "Foi encontrado uma série de problemas nas keys das tags. como por exemplo: 'AProjetada', 'Unid.Hab', espaços dentre outros. Foram todas essas normatizadas para as letras serem sempre minúsculas e sem espaços. Com exceção de algumas siglas que ficaram maiúsculas.\n",
    "\n",
    "Nessa Parte obtive uma certa dificuldade com os encondings. Não estava acostumado com python2 e ao utilizar as regular expressions. Houve uma certa dificuldade inicial com os acentos. Segue a função que fez o update das palavras (utilizei querys para colocar no database os novos valores)"
   ]
  },
  {
   "cell_type": "code",
   "execution_count": 1,
   "metadata": {
    "collapsed": true
   },
   "outputs": [],
   "source": [
    "#\n",
    "import re\n",
    "Rnormal = re.compile(r'^([\\w\\. _])+',re.U)\n",
    "Rproblemchars = re.compile(r'[=\\+/&<>;\\'\"\\?%#$@\\,\\. \\t\\r\\n]')\n",
    "Rspace = re.compile(r'^([\\w\\. _])*[ ]',re.U)\n",
    "\n",
    "def update_problems_keys(name):\n",
    "    '''Função para corrigir os nomes nas colunas keys'''\n",
    "    if(Rproblemchars.search(name)!=None):\n",
    "        if(name==u'Unid.Hab'):\n",
    "            return u'unidade_habitacional'\n",
    "        elif(Rspace.search(name)!=None):\n",
    "            #corrigir espaços\n",
    "            return Rspace.search(name).group()[:-1]+'_'+ name[(Rspace.search(name)).end():]\n",
    "        else:\n",
    "            print name+\" Problem\",Rspace.search(name)\n",
    "    if(not name.islower()):\n",
    "        if(name=='FID' or name=='IBGE' or name=='BR' or name=='CE'):\n",
    "            return name\n",
    "        elif(name==u'AProjetada'):\n",
    "            return u'área_projetada'\n",
    "        elif(name=='AConst'):\n",
    "            return u'área_construída'\n",
    "        elif(name=='GEOCODIGO'):\n",
    "            return u'geocodigo'    \n",
    "        elif(name=='UNIDADES_HABITACIONAIS'):\n",
    "            return u'unidades_habitacionais'        \n",
    "        else:\n",
    "            #tornar tudo minúsculas\n",
    "            return name.lower()\n",
    "    return name"
   ]
  },
  {
   "cell_type": "markdown",
   "metadata": {},
   "source": [
    "## Nome das ruas"
   ]
  },
  {
   "cell_type": "markdown",
   "metadata": {},
   "source": [
    "Houve uma série de problemas com os nomes das ruas. Abreviações do tipo Av. ou ruas que não começavam com prefixo nenhum (Barbosa de Freitas no lugar de Avenida Barbosa de Freitas). \n",
    "\n",
    "Para consertar utilizei o método da lição. de criar um mapa com os prefixos comuns (Av. R. ...) e usei de expressões regulares para procura-los. Na parte de importação e alteração do banco de dados usei de dataframes do pandas dessa vez. Por motivações didáticas.\n",
    "\n",
    "Segue o código que atualiza o nome das ruas. Foi necessário muitas buscas específicas por conta das ruas sem prefixos nenhum."
   ]
  },
  {
   "cell_type": "code",
   "execution_count": 2,
   "metadata": {
    "collapsed": true
   },
   "outputs": [],
   "source": [
    "#nomes esperados como prefixos\n",
    "expected = [u\"Rua\",u\"Avenida\",u\"Beco\",u\"Alameda\",u\"Acesso\",u\"Travessa\", u\"CE\",u\"BR\",u\"4º\",u'Campus',u'Praça','Vila']\n",
    "\n",
    "#mapeamento para os nomes esperados\n",
    "mapping = { u\"Av.\": u\"Avenida\",\n",
    "            u\"Av\": u\"Avenida\",\n",
    "            u\"Tv.\": u\"Travessa\",\n",
    "            u\"R.\": u\"Rua\",\n",
    "            u\"Ce\": u\"CE\",\n",
    "            u\"Br\": u\"BR\"\n",
    "            }\n",
    "def update_problems_addr(name):\n",
    "    '''Função para corrigir os nomes nas colunas value do tipo addr'''\n",
    "    #torno o nome com as letras maisculuas corretas\n",
    "    name=name.title()\n",
    "    #inicio de busca por nomes individuais\n",
    "    if(name==u'Costa Barros'):\n",
    "        return u'Avenida Costa Barros'\n",
    "    elif(name==u'Barbosa de Freitas'):\n",
    "        return u'Avenida Barbosa de Freitas'\n",
    "    elif(name==u'Joaquim Nabuco'):\n",
    "        return u'Rua Joaquim Nabuco'\n",
    "    elif(name==u'Eng\\xb0 Sandoval S\\xe1'):\n",
    "        return u'Rua Engenheiro Sandoval'\n",
    "    elif(name==u'2'):\n",
    "        return u'Rua 2'\n",
    "    elif(name==u'Alu\\xedsio Mamede'):\n",
    "        return u'Rua Aluísio Mamede'\n",
    "    elif(name==u'Titan'):\n",
    "        return u'Rua Titan'\n",
    "    elif(name==u'Washington Soares'):\n",
    "        return u'Avenida Washington Soares'    \n",
    "    elif(name==u'José Severino'):\n",
    "        return u'Rua José Severino'\n",
    "    elif(name==u'Rua Nove,'):\n",
    "        return u'Rua Nove'\n",
    "    elif(name==u'João Paula Costa'):\n",
    "        return u'Rua João Paula Costa'\n",
    "    elif(name==u'Maria Teixeira Joca'):\n",
    "        return u'Rua Maria Teixeira Joca'\n",
    "    elif(name==u'Santa Teresinha'):\n",
    "        return u'Rua Santa Teresinha'\n",
    "    elif(name==u'Santa Teresinha'):\n",
    "        return u'Rua Santa Teresinha'\n",
    "    elif(name==u'Alphaville Fortaleza'):\n",
    "        return u'Avenida Litorânea'\n",
    "    #correção de prefixos\n",
    "    elif(street_type_re.search(name).group() not in expected):\n",
    "        rua = street_type_re.search(name)\n",
    "        print name\n",
    "        #aplicação do mapeamento.\n",
    "        name= re.sub(street_type_re,mapping[rua.group()],name)\n",
    "    return name"
   ]
  },
  {
   "cell_type": "markdown",
   "metadata": {},
   "source": [
    "Foi necessário esse grande número de correções manuais por conta que não havia jeito simples de fazer o computador adivinhar se era rua ou avenida o que faltava(ou o caso do Alphaville que teve uma mudança profunda). Como eram poucos casos individuais decidi fazer na mão.\n",
    "\n",
    "Já na função correção de prefixos tivemos coisas como R. República do líbano se tornando Rua República do líbano."
   ]
  },
  {
   "cell_type": "markdown",
   "metadata": {},
   "source": [
    "## Descartar as key='fixme'"
   ]
  },
  {
   "cell_type": "markdown",
   "metadata": {},
   "source": [
    "Para Terminar a preparação de dados iniciais discartei todos os dados com o atributo key='fixme' em suas tags"
   ]
  },
  {
   "cell_type": "code",
   "execution_count": 3,
   "metadata": {
    "collapsed": true
   },
   "outputs": [],
   "source": [
    "import sqlite3\n",
    "db=sqlite3.connect(\"GrandeFortaleza.db\")\n",
    "c=db.cursor()\n",
    "CHANGE=\"DELETE FROM ways_tags WHERE key='fixme';\"\n",
    "c.execute(CHANGE)\n",
    "CHANGE=\"DELETE FROM nodes_tags WHERE key='fixme';\"\n",
    "c.execute(CHANGE)\n",
    "db.commit()\n",
    "db.close()"
   ]
  },
  {
   "cell_type": "markdown",
   "metadata": {},
   "source": [
    "# Consultas e Estatísticas Básicas"
   ]
  },
  {
   "cell_type": "markdown",
   "metadata": {},
   "source": [
    "## Tamanho Arquivos"
   ]
  },
  {
   "cell_type": "markdown",
   "metadata": {},
   "source": [
    "Primeiro analisei o tamanho do arquivo de database e do arquivo osm original.\n"
   ]
  },
  {
   "cell_type": "markdown",
   "metadata": {},
   "source": [
    "osm: 52MB  \n",
    "database: 29MB  \n",
    "ways_nodes.csv: 6MB  \n",
    "ways.csv: 2MB  \n",
    "ways_tags.csv: 3MB  \n",
    "nodes_tags.csv: 1MB  \n",
    "nodes.csv: 18MB"
   ]
  },
  {
   "cell_type": "markdown",
   "metadata": {},
   "source": [
    "## Números de usuários únicos"
   ]
  },
  {
   "cell_type": "markdown",
   "metadata": {},
   "source": [
    "Segue o número de usuários únicos"
   ]
  },
  {
   "cell_type": "code",
   "execution_count": 4,
   "metadata": {},
   "outputs": [
    {
     "name": "stdout",
     "output_type": "stream",
     "text": [
      "501\n"
     ]
    }
   ],
   "source": [
    "import sqlite3\n",
    "db=sqlite3.connect(\"GrandeFortaleza.db\")\n",
    "c=db.cursor()\n",
    "QUERY=\"\"\"SELECT  COUNT(DISTINCT e.user) as num\n",
    "FROM (SELECT user FROM nodes UNION ALL SELECT user FROM ways) e;\"\"\"\n",
    "c.execute(QUERY)\n",
    "print c.fetchall()[0][0]\n",
    "db.close()"
   ]
  },
  {
   "cell_type": "markdown",
   "metadata": {},
   "source": [
    "## Número de nós e caminhos "
   ]
  },
  {
   "cell_type": "code",
   "execution_count": 5,
   "metadata": {},
   "outputs": [
    {
     "name": "stdout",
     "output_type": "stream",
     "text": [
      "Número de ways: 44496\n",
      "Número de nodes: 220814\n"
     ]
    }
   ],
   "source": [
    "import sqlite3\n",
    "db=sqlite3.connect(\"GrandeFortaleza.db\")\n",
    "c=db.cursor()\n",
    "QUERY=\"\"\"SELECT COUNT(*) FROM ways;\"\"\"\n",
    "c.execute(QUERY)\n",
    "print \"Número de ways: \"+str(c.fetchall()[0][0])\n",
    "QUERY=\"\"\"SELECT COUNT(*) FROM nodes;\"\"\"\n",
    "c.execute(QUERY)\n",
    "print \"Número de nodes: \"+str(c.fetchall()[0][0])\n",
    "db.close()"
   ]
  },
  {
   "cell_type": "markdown",
   "metadata": {},
   "source": [
    "## Análise da Culinária de Fortaleza"
   ]
  },
  {
   "cell_type": "markdown",
   "metadata": {},
   "source": [
    "### Número de Nós e Ruas  Relacionados ao Tema"
   ]
  },
  {
   "cell_type": "code",
   "execution_count": 6,
   "metadata": {},
   "outputs": [
    {
     "name": "stdout",
     "output_type": "stream",
     "text": [
      "Número no ways: 75\n",
      "Número no nodes: 68\n"
     ]
    }
   ],
   "source": [
    "import sqlite3\n",
    "db=sqlite3.connect(\"GrandeFortaleza.db\")\n",
    "c=db.cursor()\n",
    "QUERY=\"\"\"SELECT COUNT(*) FROM ways_tags WHERE key='cuisine';\"\"\"\n",
    "c.execute(QUERY)\n",
    "print \"Número no ways: \"+str(c.fetchall()[0][0])\n",
    "QUERY=\"\"\"SELECT COUNT(*) FROM nodes_tags WHERE key='cuisine';\"\"\"\n",
    "c.execute(QUERY)\n",
    "print \"Número no nodes: \"+str(c.fetchall()[0][0])\n",
    "db.close()"
   ]
  },
  {
   "cell_type": "markdown",
   "metadata": {},
   "source": [
    "O número de dados de restaurantes foi bem menor do que eu esperava."
   ]
  },
  {
   "cell_type": "markdown",
   "metadata": {},
   "source": [
    "### Tipos Mais Comuns de Cúlinaria"
   ]
  },
  {
   "cell_type": "code",
   "execution_count": 7,
   "metadata": {},
   "outputs": [
    {
     "name": "stdout",
     "output_type": "stream",
     "text": [
      "Nos ways: \n",
      "(u'regional', 21)\n",
      "(u'burger', 14)\n",
      "(u'pizza', 10)\n",
      "(u'steak_house', 6)\n",
      "(u'fast_food', 3)\n",
      "(u'coffee_shop', 2)\n",
      "(u'italian', 2)\n",
      "(u'kebab', 2)\n",
      "Nos nós: \n",
      "(u'pizza', 16)\n",
      "(u'burger', 9)\n",
      "(u'coffee_shop', 3)\n",
      "(u'japanese', 3)\n",
      "(u'regional', 3)\n",
      "(u'ice_cream', 2)\n",
      "(u'italian', 2)\n",
      "(u'sandwich', 2)\n"
     ]
    }
   ],
   "source": [
    "import sqlite3\n",
    "db=sqlite3.connect(\"GrandeFortaleza.db\")\n",
    "c=db.cursor()\n",
    "QUERY=\"\"\"SELECT value, COUNT(*) AS Total FROM ways_tags \n",
    "WHERE key='cuisine' GROUP BY value ORDER BY Total desc LIMIT 8;\"\"\"\n",
    "c.execute(QUERY)\n",
    "print \"Nos ways: \"\n",
    "rows =c.fetchall()\n",
    "for row in rows:\n",
    "    print row\n",
    "QUERY=\"\"\"SELECT value, COUNT(*) AS Total FROM nodes_tags\n",
    "WHERE key='cuisine' GROUP BY value ORDER BY Total desc LIMIT 8;\"\"\"\n",
    "c.execute(QUERY)\n",
    "print \"Nos nós: \"\n",
    "rows =c.fetchall()\n",
    "for row in rows:\n",
    "    print row\n",
    "db.close()"
   ]
  },
  {
   "cell_type": "markdown",
   "metadata": {},
   "source": [
    "## Rua Com Mais Nós"
   ]
  },
  {
   "cell_type": "code",
   "execution_count": 8,
   "metadata": {},
   "outputs": [
    {
     "name": "stdout",
     "output_type": "stream",
     "text": [
      "(u'Rua Lago Azul', 599)\n",
      "(u'Rua Lago Dourado', 546)\n",
      "(u'Rua Passo A Passo', 399)\n",
      "(u'Rua Lago Verde', 381)\n",
      "(u'Rua Campo Verde', 274)\n",
      "(u'Rua Gon\\xe7alves Dias', 231)\n",
      "(u'Avenida Dom Almeida Lustosa', 223)\n",
      "(u'Avenida Washington Soares', 202)\n",
      "(u'Avenida Bar\\xe3o De Studart', 193)\n",
      "(u'Rua Amazona', 166)\n"
     ]
    }
   ],
   "source": [
    "import sqlite3\n",
    "db=sqlite3.connect(\"GrandeFortaleza.db\")\n",
    "c=db.cursor()\n",
    "QUERY=\"\"\"SELECT a.value, COUNT(ways_nodes.node_id) AS Total FROM \n",
    "(SELECT id,value FROM ways_tags WHERE type='addr' AND key='street') a,ways_nodes \n",
    "WHERE a.id=ways_nodes.id GROUP BY a.value ORDER BY Total desc LIMIT 10 ;\"\"\"\n",
    "c.execute(QUERY)\n",
    "rows =c.fetchall()\n",
    "for row in rows:\n",
    "    print row\n",
    "db.close()"
   ]
  },
  {
   "cell_type": "markdown",
   "metadata": {},
   "source": [
    "Curiosamente a rua com mais nós registrados não é uma avenida ou alguma rua de grande importância."
   ]
  },
  {
   "cell_type": "markdown",
   "metadata": {},
   "source": [
    "## Amenidades\n",
    "### Número de Nós e Ruas  Relacionados ao Tema"
   ]
  },
  {
   "cell_type": "code",
   "execution_count": 9,
   "metadata": {},
   "outputs": [
    {
     "name": "stdout",
     "output_type": "stream",
     "text": [
      "Número no ways: 965\n",
      "Número no nodes: 1500\n"
     ]
    }
   ],
   "source": [
    "import sqlite3\n",
    "db=sqlite3.connect(\"GrandeFortaleza.db\")\n",
    "c=db.cursor()\n",
    "QUERY=\"\"\"SELECT COUNT(*) FROM ways_tags WHERE key='amenity';\"\"\"\n",
    "c.execute(QUERY)\n",
    "print \"Número no ways: \"+str(c.fetchall()[0][0])\n",
    "QUERY=\"\"\"SELECT COUNT(*) FROM nodes_tags WHERE key='amenity';\"\"\"\n",
    "c.execute(QUERY)\n",
    "print \"Número no nodes: \"+str(c.fetchall()[0][0])\n",
    "db.close()"
   ]
  },
  {
   "cell_type": "markdown",
   "metadata": {},
   "source": [
    "Já as amenidades tiveram um bom número"
   ]
  },
  {
   "cell_type": "markdown",
   "metadata": {},
   "source": [
    "### Tipos Mais Comuns de amenidades"
   ]
  },
  {
   "cell_type": "code",
   "execution_count": 10,
   "metadata": {},
   "outputs": [
    {
     "name": "stdout",
     "output_type": "stream",
     "text": [
      "Nos ways: \n",
      "(u'parking', 231)\n",
      "(u'fuel', 120)\n",
      "(u'school', 93)\n",
      "(u'place_of_worship', 85)\n",
      "(u'restaurant', 78)\n",
      "(u'fast_food', 58)\n",
      "(u'bank', 44)\n",
      "(u'pharmacy', 31)\n",
      "Nos nós: \n",
      "(u'restaurant', 312)\n",
      "(u'place_of_worship', 153)\n",
      "(u'school', 138)\n",
      "(u'fast_food', 113)\n",
      "(u'bicycle_rental', 86)\n",
      "(u'fuel', 86)\n",
      "(u'pharmacy', 80)\n",
      "(u'pub', 53)\n"
     ]
    }
   ],
   "source": [
    "import sqlite3\n",
    "db=sqlite3.connect(\"GrandeFortaleza.db\")\n",
    "c=db.cursor()\n",
    "QUERY=\"\"\"SELECT value, COUNT(*) AS Total FROM ways_tags \n",
    "WHERE key='amenity' GROUP BY value ORDER BY Total desc LIMIT 8;\"\"\"\n",
    "c.execute(QUERY)\n",
    "print \"Nos ways: \"\n",
    "rows =c.fetchall()\n",
    "for row in rows:\n",
    "    print row\n",
    "QUERY=\"\"\"SELECT value, COUNT(*) AS Total FROM nodes_tags\n",
    "WHERE key='amenity' GROUP BY value ORDER BY Total desc LIMIT 8;\"\"\"\n",
    "c.execute(QUERY)\n",
    "print \"Nos nós: \"\n",
    "rows =c.fetchall()\n",
    "for row in rows:\n",
    "    print row\n",
    "db.close()"
   ]
  },
  {
   "cell_type": "markdown",
   "metadata": {},
   "source": [
    "Setor alimentício parece forte em fortaleza. Os restaurantes e os fast foods apareceram numa alta posição."
   ]
  },
  {
   "cell_type": "markdown",
   "metadata": {},
   "source": [
    "# Sugestões Para Melhorar a Análise dos Dados"
   ]
  },
  {
   "cell_type": "markdown",
   "metadata": {},
   "source": [
    "Ainda há bastantes melhorias nos dados a serem feitas. O cep por exemplo teve ceps que vieram com hífem e outros sem hífem. Há ainda bastante limpeza e auditorias nos dados para se ter maior confiança neles.\n",
    "\n",
    "Os dados também foram muito mais escassos do que eu esperava para uma cidade do tamanho de fortaleza. Menos de 180 entradas do tipo cuisine é baixo. Logo é necessário um maior esforço da comunidade local para contribuir com o Open Street Map para ele ser mais eficiente. Afinal somente 501 pessoas contribuiram. \n",
    "\n",
    "Técnicas de gamificação poderiam ser usadas para se alcançar esse objetívo. Usando-se de rankings e outras ferramentas competitivas. quanto mais contribuir maior o level da pessoa na comunidade por exemplo. \n",
    " * Benefícios:  \n",
    "   - Aumento engajamento  \n",
    " * Problemas esperados:  \n",
    "   - O engajamento precisa de incentivos iniciais\n",
    "\n",
    "Algum tipo de vínculo com instituições locais para se conseguir descontos/benefícios para grandes contribuidores seria o ideal.\n",
    " * Benefícios:  \n",
    "   - Grande aumento do engajamento  \n",
    " * Problemas esperados:  \n",
    "   - Pode ser necessário aporte financeiro\n",
    "Poderia-se convocar os já apoiadores do projeto locais para fazer esse diálogo.\n",
    "\n",
    "Também seria bom cruzar os dados com a API do google. Para assim validar os dados e talvez suprir dados ausentes e defeituosos\n",
    " * Benefícios:  \n",
    "   - Grande aumento da validade  \n",
    " * Problemas esperados:  \n",
    "   - Os dados da google também podem conter erros"
   ]
  },
  {
   "cell_type": "markdown",
   "metadata": {},
   "source": [
    "# Conclusão"
   ]
  },
  {
   "cell_type": "markdown",
   "metadata": {},
   "source": [
    "Foi um trabalho interessante porém cansativo pelo fato da minha total inexpêriencia prévia a lição com todas as ferramentas utilizadas. As ruas acredito que consegui limpar razoavelmente bem. Análises foram feitas e foi notado a deficiência em dados e contribuidores na minha região.\n",
    "\n",
    "\n",
    "Uma extensão que acharia interessante seria analisar essas 501 pessoas e verificar quanto cada um contribuiu utilizando de testes estatísticos. Como é algo similar ao sample_project decidi concentrar em outras tarefas."
   ]
  }
 ],
 "metadata": {
  "kernelspec": {
   "display_name": "Python 2",
   "language": "python",
   "name": "python2"
  },
  "language_info": {
   "codemirror_mode": {
    "name": "ipython",
    "version": 2
   },
   "file_extension": ".py",
   "mimetype": "text/x-python",
   "name": "python",
   "nbconvert_exporter": "python",
   "pygments_lexer": "ipython2",
   "version": "2.7.13"
  }
 },
 "nbformat": 4,
 "nbformat_minor": 2
}
