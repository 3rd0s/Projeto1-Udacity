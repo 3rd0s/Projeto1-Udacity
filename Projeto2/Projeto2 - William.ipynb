{
 "cells": [
  {
   "cell_type": "markdown",
   "metadata": {},
   "source": [
    "Foi escolhido analisar os dados sobre o Titanic. Um dos maiores acidentes da navegação maritima. Iconizado no filme que foi o filme com maior bilheteria por anos. Será que se sustenta o que se apresentou no filme? Será que as as mulheres e crianças eram realmente salvas primeiro? Os ricos foram privilegiados?"
   ]
  },
  {
   "cell_type": "markdown",
   "metadata": {},
   "source": [
    "Algumas perguntas iniciais a serem feitas para se verificar isso são:\n",
    "\n",
    "1º Ser mulher teve alguma influência na chance de sobrevivência?\n",
    "\n",
    "2º E ser criança? \n",
    "\n",
    "3º Qual relação entre poder financeiro(representada pela classe) e sobrevivência?\n",
    "\n",
    "Após isso iremos cruzar os dados."
   ]
  },
  {
   "cell_type": "code",
   "execution_count": 1,
   "metadata": {
    "scrolled": false
   },
   "outputs": [
    {
     "data": {
      "text/html": [
       "<div>\n",
       "<style>\n",
       "    .dataframe thead tr:only-child th {\n",
       "        text-align: right;\n",
       "    }\n",
       "\n",
       "    .dataframe thead th {\n",
       "        text-align: left;\n",
       "    }\n",
       "\n",
       "    .dataframe tbody tr th {\n",
       "        vertical-align: top;\n",
       "    }\n",
       "</style>\n",
       "<table border=\"1\" class=\"dataframe\">\n",
       "  <thead>\n",
       "    <tr style=\"text-align: right;\">\n",
       "      <th></th>\n",
       "      <th>PassengerId</th>\n",
       "      <th>Survived</th>\n",
       "      <th>Pclass</th>\n",
       "      <th>Name</th>\n",
       "      <th>Sex</th>\n",
       "      <th>Age</th>\n",
       "      <th>SibSp</th>\n",
       "      <th>Parch</th>\n",
       "      <th>Ticket</th>\n",
       "      <th>Fare</th>\n",
       "      <th>Cabin</th>\n",
       "      <th>Embarked</th>\n",
       "    </tr>\n",
       "  </thead>\n",
       "  <tbody>\n",
       "    <tr>\n",
       "      <th>0</th>\n",
       "      <td>1</td>\n",
       "      <td>0</td>\n",
       "      <td>3</td>\n",
       "      <td>Braund, Mr. Owen Harris</td>\n",
       "      <td>male</td>\n",
       "      <td>22.0</td>\n",
       "      <td>1</td>\n",
       "      <td>0</td>\n",
       "      <td>A/5 21171</td>\n",
       "      <td>7.2500</td>\n",
       "      <td>NaN</td>\n",
       "      <td>S</td>\n",
       "    </tr>\n",
       "    <tr>\n",
       "      <th>1</th>\n",
       "      <td>2</td>\n",
       "      <td>1</td>\n",
       "      <td>1</td>\n",
       "      <td>Cumings, Mrs. John Bradley (Florence Briggs Th...</td>\n",
       "      <td>female</td>\n",
       "      <td>38.0</td>\n",
       "      <td>1</td>\n",
       "      <td>0</td>\n",
       "      <td>PC 17599</td>\n",
       "      <td>71.2833</td>\n",
       "      <td>C85</td>\n",
       "      <td>C</td>\n",
       "    </tr>\n",
       "    <tr>\n",
       "      <th>2</th>\n",
       "      <td>3</td>\n",
       "      <td>1</td>\n",
       "      <td>3</td>\n",
       "      <td>Heikkinen, Miss. Laina</td>\n",
       "      <td>female</td>\n",
       "      <td>26.0</td>\n",
       "      <td>0</td>\n",
       "      <td>0</td>\n",
       "      <td>STON/O2. 3101282</td>\n",
       "      <td>7.9250</td>\n",
       "      <td>NaN</td>\n",
       "      <td>S</td>\n",
       "    </tr>\n",
       "    <tr>\n",
       "      <th>3</th>\n",
       "      <td>4</td>\n",
       "      <td>1</td>\n",
       "      <td>1</td>\n",
       "      <td>Futrelle, Mrs. Jacques Heath (Lily May Peel)</td>\n",
       "      <td>female</td>\n",
       "      <td>35.0</td>\n",
       "      <td>1</td>\n",
       "      <td>0</td>\n",
       "      <td>113803</td>\n",
       "      <td>53.1000</td>\n",
       "      <td>C123</td>\n",
       "      <td>S</td>\n",
       "    </tr>\n",
       "    <tr>\n",
       "      <th>4</th>\n",
       "      <td>5</td>\n",
       "      <td>0</td>\n",
       "      <td>3</td>\n",
       "      <td>Allen, Mr. William Henry</td>\n",
       "      <td>male</td>\n",
       "      <td>35.0</td>\n",
       "      <td>0</td>\n",
       "      <td>0</td>\n",
       "      <td>373450</td>\n",
       "      <td>8.0500</td>\n",
       "      <td>NaN</td>\n",
       "      <td>S</td>\n",
       "    </tr>\n",
       "  </tbody>\n",
       "</table>\n",
       "</div>"
      ],
      "text/plain": [
       "   PassengerId  Survived  Pclass  \\\n",
       "0            1         0       3   \n",
       "1            2         1       1   \n",
       "2            3         1       3   \n",
       "3            4         1       1   \n",
       "4            5         0       3   \n",
       "\n",
       "                                                Name     Sex   Age  SibSp  \\\n",
       "0                            Braund, Mr. Owen Harris    male  22.0      1   \n",
       "1  Cumings, Mrs. John Bradley (Florence Briggs Th...  female  38.0      1   \n",
       "2                             Heikkinen, Miss. Laina  female  26.0      0   \n",
       "3       Futrelle, Mrs. Jacques Heath (Lily May Peel)  female  35.0      1   \n",
       "4                           Allen, Mr. William Henry    male  35.0      0   \n",
       "\n",
       "   Parch            Ticket     Fare Cabin Embarked  \n",
       "0      0         A/5 21171   7.2500   NaN        S  \n",
       "1      0          PC 17599  71.2833   C85        C  \n",
       "2      0  STON/O2. 3101282   7.9250   NaN        S  \n",
       "3      0            113803  53.1000  C123        S  \n",
       "4      0            373450   8.0500   NaN        S  "
      ]
     },
     "execution_count": 1,
     "metadata": {},
     "output_type": "execute_result"
    }
   ],
   "source": [
    "%matplotlib inline\n",
    "import numpy as np\n",
    "import pandas as pd\n",
    "import seaborn as sns\n",
    "import scipy\n",
    "import matplotlib.pyplot as plt\n",
    "\n",
    "#Lendo os dados basicos.#\n",
    "Titanic_data_raw=pd.read_csv('titanic_data.csv')\n",
    "#Ver os dados para se ter uma idéia deles.\n",
    "Titanic_data_raw.head()"
   ]
  },
  {
   "cell_type": "markdown",
   "metadata": {},
   "source": [
    "Verificarei esses NaN e aonde eles aparecem. Lembrando que Cabin representa a cabine que a pessoa estava. Fare é o custo da passagem. Embarked é aonde a pessoa embarcou, Parch é o numero de parentes na forma país ou filhos e SibSp é o número de parentes na forma irmão, irmã, esposo ou esposa."
   ]
  },
  {
   "cell_type": "code",
   "execution_count": 2,
   "metadata": {},
   "outputs": [
    {
     "data": {
      "text/plain": [
       "PassengerId      0\n",
       "Survived         0\n",
       "Pclass           0\n",
       "Name             0\n",
       "Sex              0\n",
       "Age            177\n",
       "SibSp            0\n",
       "Parch            0\n",
       "Ticket           0\n",
       "Fare             0\n",
       "Cabin          687\n",
       "Embarked         2\n",
       "dtype: int64"
      ]
     },
     "execution_count": 2,
     "metadata": {},
     "output_type": "execute_result"
    }
   ],
   "source": [
    "#verificando dados NaN(não válidos) no arquivo#\n",
    "Titanic_data_raw.isnull().sum()"
   ]
  },
  {
   "cell_type": "markdown",
   "metadata": {},
   "source": [
    "Infelizmente nota-se muita Muitas idades desconhecidas nos dados da idade. O mais desastroso foi a cabine. Houve também pequenos erros na embarcação. Tenho que corrigir esses erros."
   ]
  },
  {
   "cell_type": "markdown",
   "metadata": {},
   "source": [
    "O dado da cabine não planejo usa-lo e para evitar uso por engano futuro considero simplesmente apagar essa coluna. Para o dado Embarked que também não há planos previos de uso irei analisar essas 2 únicas pessoas na qual ele está faltando."
   ]
  },
  {
   "cell_type": "code",
   "execution_count": 3,
   "metadata": {},
   "outputs": [
    {
     "data": {
      "text/html": [
       "<div>\n",
       "<style>\n",
       "    .dataframe thead tr:only-child th {\n",
       "        text-align: right;\n",
       "    }\n",
       "\n",
       "    .dataframe thead th {\n",
       "        text-align: left;\n",
       "    }\n",
       "\n",
       "    .dataframe tbody tr th {\n",
       "        vertical-align: top;\n",
       "    }\n",
       "</style>\n",
       "<table border=\"1\" class=\"dataframe\">\n",
       "  <thead>\n",
       "    <tr style=\"text-align: right;\">\n",
       "      <th></th>\n",
       "      <th>PassengerId</th>\n",
       "      <th>Survived</th>\n",
       "      <th>Pclass</th>\n",
       "      <th>Name</th>\n",
       "      <th>Sex</th>\n",
       "      <th>Age</th>\n",
       "      <th>SibSp</th>\n",
       "      <th>Parch</th>\n",
       "      <th>Ticket</th>\n",
       "      <th>Fare</th>\n",
       "      <th>Cabin</th>\n",
       "      <th>Embarked</th>\n",
       "    </tr>\n",
       "  </thead>\n",
       "  <tbody>\n",
       "    <tr>\n",
       "      <th>61</th>\n",
       "      <td>62</td>\n",
       "      <td>1</td>\n",
       "      <td>1</td>\n",
       "      <td>Icard, Miss. Amelie</td>\n",
       "      <td>female</td>\n",
       "      <td>38.0</td>\n",
       "      <td>0</td>\n",
       "      <td>0</td>\n",
       "      <td>113572</td>\n",
       "      <td>80.0</td>\n",
       "      <td>B28</td>\n",
       "      <td>NaN</td>\n",
       "    </tr>\n",
       "    <tr>\n",
       "      <th>829</th>\n",
       "      <td>830</td>\n",
       "      <td>1</td>\n",
       "      <td>1</td>\n",
       "      <td>Stone, Mrs. George Nelson (Martha Evelyn)</td>\n",
       "      <td>female</td>\n",
       "      <td>62.0</td>\n",
       "      <td>0</td>\n",
       "      <td>0</td>\n",
       "      <td>113572</td>\n",
       "      <td>80.0</td>\n",
       "      <td>B28</td>\n",
       "      <td>NaN</td>\n",
       "    </tr>\n",
       "  </tbody>\n",
       "</table>\n",
       "</div>"
      ],
      "text/plain": [
       "     PassengerId  Survived  Pclass                                       Name  \\\n",
       "61            62         1       1                        Icard, Miss. Amelie   \n",
       "829          830         1       1  Stone, Mrs. George Nelson (Martha Evelyn)   \n",
       "\n",
       "        Sex   Age  SibSp  Parch  Ticket  Fare Cabin Embarked  \n",
       "61   female  38.0      0      0  113572  80.0   B28      NaN  \n",
       "829  female  62.0      0      0  113572  80.0   B28      NaN  "
      ]
     },
     "execution_count": 3,
     "metadata": {},
     "output_type": "execute_result"
    }
   ],
   "source": [
    "#seleciona somente os embarked nan\n",
    "Titanic_data_raw[Titanic_data_raw['Embarked'].isnull()]"
   ]
  },
  {
   "cell_type": "markdown",
   "metadata": {},
   "source": [
    "curiosamente eram da mesma cabine e tinham o mesmo ticket. Antes de tomar uma decisão irei examinar quantas pessoas tinham tickets duplicados. "
   ]
  },
  {
   "cell_type": "code",
   "execution_count": 4,
   "metadata": {},
   "outputs": [
    {
     "name": "stdout",
     "output_type": "stream",
     "text": [
      "0\n",
      "344\n"
     ]
    }
   ],
   "source": [
    "#analise de pessoas duplicadas\n",
    "print Titanic_data_raw.duplicated(keep=False).sum()\n",
    "#analise de tickets duplicados\n",
    "print Titanic_data_raw.duplicated('Ticket',False).sum()"
   ]
  },
  {
   "cell_type": "markdown",
   "metadata": {},
   "source": [
    "344 duplicadas é algo razoavel. já não devo analisar o ticket como fator. também aproveitei para verificar que não há linhas completamente duplicadas. Minha decisão final é simplesmente eliminar essas duas colunas Elas não devem vir a ser relevantes para nossa análise. Caso sejam voltaremos a elas."
   ]
  },
  {
   "cell_type": "code",
   "execution_count": 5,
   "metadata": {
    "collapsed": true
   },
   "outputs": [],
   "source": [
    "#deletando dados perigosos e provavelmente não úteis úteis\n",
    "del Titanic_data_raw['Ticket']\n",
    "del Titanic_data_raw['Embarked']\n",
    "del Titanic_data_raw['Cabin']"
   ]
  },
  {
   "cell_type": "markdown",
   "metadata": {},
   "source": [
    "Ainda falta a idade. Que é um dado que queremos analisar. Para esse simplesmente terei que eliminar as linhas que faltarem dados. pois a uma outra opção estatística que seria colocar a média da idade não me diz nada já que irei querer análisar a relação criança/adulto que é binária."
   ]
  },
  {
   "cell_type": "code",
   "execution_count": 6,
   "metadata": {
    "collapsed": true
   },
   "outputs": [],
   "source": [
    "Titanic_data_raw=Titanic_data_raw.dropna()"
   ]
  },
  {
   "cell_type": "markdown",
   "metadata": {},
   "source": [
    "Agora alteramos a idade por um valor binário booleano que marca se é verdade se a pessoa em questão tem mais de 12 anos. Isso foi feito para se analisar diferenças entre maiores e menores de idade. "
   ]
  },
  {
   "cell_type": "code",
   "execution_count": 7,
   "metadata": {
    "collapsed": true
   },
   "outputs": [],
   "source": [
    "#dividindo os passageiros por faixa etaria\n",
    "Titanic_data_raw[\"Age_group\"] = pd.cut(Titanic_data_raw.Age, [0, 12, 150], labels=[\"Menor\", \"Maior\"])"
   ]
  },
  {
   "cell_type": "markdown",
   "metadata": {},
   "source": [
    "Logo, após nossa preparação dos dados temos que nossos dados ficaram:\n"
   ]
  },
  {
   "cell_type": "code",
   "execution_count": 8,
   "metadata": {},
   "outputs": [
    {
     "data": {
      "text/html": [
       "<div>\n",
       "<style>\n",
       "    .dataframe thead tr:only-child th {\n",
       "        text-align: right;\n",
       "    }\n",
       "\n",
       "    .dataframe thead th {\n",
       "        text-align: left;\n",
       "    }\n",
       "\n",
       "    .dataframe tbody tr th {\n",
       "        vertical-align: top;\n",
       "    }\n",
       "</style>\n",
       "<table border=\"1\" class=\"dataframe\">\n",
       "  <thead>\n",
       "    <tr style=\"text-align: right;\">\n",
       "      <th></th>\n",
       "      <th>PassengerId</th>\n",
       "      <th>Survived</th>\n",
       "      <th>Pclass</th>\n",
       "      <th>Name</th>\n",
       "      <th>Sex</th>\n",
       "      <th>Age</th>\n",
       "      <th>SibSp</th>\n",
       "      <th>Parch</th>\n",
       "      <th>Fare</th>\n",
       "      <th>Age_group</th>\n",
       "    </tr>\n",
       "  </thead>\n",
       "  <tbody>\n",
       "    <tr>\n",
       "      <th>0</th>\n",
       "      <td>1</td>\n",
       "      <td>0</td>\n",
       "      <td>3</td>\n",
       "      <td>Braund, Mr. Owen Harris</td>\n",
       "      <td>male</td>\n",
       "      <td>22.0</td>\n",
       "      <td>1</td>\n",
       "      <td>0</td>\n",
       "      <td>7.2500</td>\n",
       "      <td>Maior</td>\n",
       "    </tr>\n",
       "    <tr>\n",
       "      <th>1</th>\n",
       "      <td>2</td>\n",
       "      <td>1</td>\n",
       "      <td>1</td>\n",
       "      <td>Cumings, Mrs. John Bradley (Florence Briggs Th...</td>\n",
       "      <td>female</td>\n",
       "      <td>38.0</td>\n",
       "      <td>1</td>\n",
       "      <td>0</td>\n",
       "      <td>71.2833</td>\n",
       "      <td>Maior</td>\n",
       "    </tr>\n",
       "    <tr>\n",
       "      <th>2</th>\n",
       "      <td>3</td>\n",
       "      <td>1</td>\n",
       "      <td>3</td>\n",
       "      <td>Heikkinen, Miss. Laina</td>\n",
       "      <td>female</td>\n",
       "      <td>26.0</td>\n",
       "      <td>0</td>\n",
       "      <td>0</td>\n",
       "      <td>7.9250</td>\n",
       "      <td>Maior</td>\n",
       "    </tr>\n",
       "    <tr>\n",
       "      <th>3</th>\n",
       "      <td>4</td>\n",
       "      <td>1</td>\n",
       "      <td>1</td>\n",
       "      <td>Futrelle, Mrs. Jacques Heath (Lily May Peel)</td>\n",
       "      <td>female</td>\n",
       "      <td>35.0</td>\n",
       "      <td>1</td>\n",
       "      <td>0</td>\n",
       "      <td>53.1000</td>\n",
       "      <td>Maior</td>\n",
       "    </tr>\n",
       "    <tr>\n",
       "      <th>4</th>\n",
       "      <td>5</td>\n",
       "      <td>0</td>\n",
       "      <td>3</td>\n",
       "      <td>Allen, Mr. William Henry</td>\n",
       "      <td>male</td>\n",
       "      <td>35.0</td>\n",
       "      <td>0</td>\n",
       "      <td>0</td>\n",
       "      <td>8.0500</td>\n",
       "      <td>Maior</td>\n",
       "    </tr>\n",
       "  </tbody>\n",
       "</table>\n",
       "</div>"
      ],
      "text/plain": [
       "   PassengerId  Survived  Pclass  \\\n",
       "0            1         0       3   \n",
       "1            2         1       1   \n",
       "2            3         1       3   \n",
       "3            4         1       1   \n",
       "4            5         0       3   \n",
       "\n",
       "                                                Name     Sex   Age  SibSp  \\\n",
       "0                            Braund, Mr. Owen Harris    male  22.0      1   \n",
       "1  Cumings, Mrs. John Bradley (Florence Briggs Th...  female  38.0      1   \n",
       "2                             Heikkinen, Miss. Laina  female  26.0      0   \n",
       "3       Futrelle, Mrs. Jacques Heath (Lily May Peel)  female  35.0      1   \n",
       "4                           Allen, Mr. William Henry    male  35.0      0   \n",
       "\n",
       "   Parch     Fare Age_group  \n",
       "0      0   7.2500     Maior  \n",
       "1      0  71.2833     Maior  \n",
       "2      0   7.9250     Maior  \n",
       "3      0  53.1000     Maior  \n",
       "4      0   8.0500     Maior  "
      ]
     },
     "execution_count": 8,
     "metadata": {},
     "output_type": "execute_result"
    }
   ],
   "source": [
    "#revisita a tabela de dados\n",
    "Titanic_data_raw.head()"
   ]
  },
  {
   "cell_type": "markdown",
   "metadata": {},
   "source": [
    "Farei um quadro geral com as quantidades enumeraveis para os 3 casos que estamos a analisar. "
   ]
  },
  {
   "cell_type": "code",
   "execution_count": 9,
   "metadata": {
    "scrolled": false
   },
   "outputs": [
    {
     "name": "stdout",
     "output_type": "stream",
     "text": [
      "        count      mean       std  min  25%  50%  75%  max\n",
      "Sex                                                       \n",
      "female  261.0  0.754789  0.431039  0.0  1.0  1.0  1.0  1.0\n",
      "male    453.0  0.205298  0.404366  0.0  0.0  0.0  0.0  1.0\n",
      "           count      mean       std  min  25%  50%  75%  max\n",
      "Age_group                                                    \n",
      "Maior      645.0  0.387597  0.487580  0.0  0.0  0.0  1.0  1.0\n",
      "Menor       69.0  0.579710  0.497222  0.0  0.0  1.0  1.0  1.0\n",
      "        count      mean       std  min  25%  50%  75%  max\n",
      "Pclass                                                    \n",
      "1       186.0  0.655914  0.476352  0.0  0.0  1.0  1.0  1.0\n",
      "2       173.0  0.479769  0.501041  0.0  0.0  0.0  1.0  1.0\n",
      "3       355.0  0.239437  0.427342  0.0  0.0  0.0  0.0  1.0\n"
     ]
    }
   ],
   "source": [
    "print Titanic_data_raw.groupby('Sex')['Survived'].describe()\n",
    "print Titanic_data_raw.groupby('Age_group')['Survived'].describe()\n",
    "print Titanic_data_raw.groupby('Pclass')['Survived'].describe()"
   ]
  },
  {
   "cell_type": "markdown",
   "metadata": {},
   "source": [
    "A média de mulheres está muito maior que as de homem. O que mostra que sobreviveram mais mulheres. Já as crianças também viveram mais. Nota-se também a progressão infelizmente esperada nas classes sociais. Porém eu quero saber qual a chance de isto ter sido só um desvio estátistico. para tanto farei um teste t."
   ]
  },
  {
   "cell_type": "markdown",
   "metadata": {},
   "source": [
    "# 1º Teste T"
   ]
  },
  {
   "cell_type": "markdown",
   "metadata": {},
   "source": [
    "Considerarei durante o teste que meus dados são só uma amostra pois irei comparar com uma população ficticia para ver a chance de o que aconteceu ter sido puramente aleatório. Usarei o $\\alpha=0.05$ como meu crivo.\n"
   ]
  },
  {
   "cell_type": "markdown",
   "metadata": {},
   "source": [
    "Minha hipótese nula é de que não haverá diferença entre a sobrevivência das mulheres e a dos homens. $\\mu_H=\\mu_M$ que pode ser reescrita como $\\mu_H-\\mu_M=0$ já a hipótese alternativa é $\\mu_H-\\mu_M \\neq 0$. Aonde os $\\mu$ representam a população de homens e mulheres salvas. Usarei two-sided tail por considerar não ter motivos iniciais para ir pra nenhum dos lados. Usarei hipóteses similares para classes sociais(comparando a primeira e a terceira) e para a faixa etária."
   ]
  },
  {
   "cell_type": "code",
   "execution_count": 10,
   "metadata": {
    "collapsed": true
   },
   "outputs": [],
   "source": [
    "def T_estatistica(DataFrame1,DataFrame2,Grupo1,Grupo2,Alvo1,Alvo2):\n",
    "    \"\"\"Retorna a probabilidade e a estátistica t\n",
    "     Args:\n",
    "        DataFrame1 (Dataframe): Dataframe da amostra 1\n",
    "        DataFrame2 (Dataframe): Dataframe da amostra 2\n",
    "        Grupo1 (str): grupo da amostra 1\n",
    "        Grupo2 (str): grupo da amostra 2\n",
    "        Alvo1 (str): elemento a ser analisado da amostra 1\n",
    "        Alvo2 (str): elemento a ser analisado da amostra 2\n",
    "\n",
    "    Returns:\n",
    "        estatística t e probabilidade.\n",
    "    \"\"\"\n",
    "    return scipy.stats.ttest_ind(DataFrame1.groupby(Grupo1).get_group(Alvo1)['Survived'],\\\n",
    "    DataFrame2.groupby(Grupo2).get_group(Alvo2)['Survived'], equal_var=True)\n",
    "     "
   ]
  },
  {
   "cell_type": "code",
   "execution_count": 11,
   "metadata": {},
   "outputs": [
    {
     "name": "stdout",
     "output_type": "stream",
     "text": [
      "Sexo:  Ttest_indResult(statistic=-17.067146369266009, pvalue=5.2247099268015708e-55) \n",
      "\n",
      "Faixa Etária:  Ttest_indResult(statistic=-3.1048462919585798, pvalue=0.0019792517983729784) \n",
      "\n",
      "Classe Social:  Ttest_indResult(statistic=-10.344880036138225, pvalue=5.3076036867843702e-23) \n",
      "\n"
     ]
    }
   ],
   "source": [
    "#imprimir as estatísticas relevantes\n",
    "print 'Sexo: ', T_estatistica(Titanic_data_raw,Titanic_data_raw,'Sex','Sex','male','female'),'\\n'\n",
    "print 'Faixa Etária: ',T_estatistica(Titanic_data_raw,Titanic_data_raw,'Age_group','Age_group','Maior','Menor'),'\\n'\n",
    "print 'Classe Social: ',T_estatistica(Titanic_data_raw,Titanic_data_raw,'Pclass','Pclass',3,1), '\\n'\n"
   ]
  },
  {
   "cell_type": "markdown",
   "metadata": {},
   "source": [
    "Para anular a hipótese nula precisavamos de $p<0.025$.\n",
    "\n",
    "Portanto conseguimos anular a hipótese nula quanto ao sexo, a classe e maioridade. O que mostra que sim. ser rico tem alguma relação com sobreviver. Assim como o sexo e a maioridade.\n",
    "\n",
    "Mas ainda estou curioso e irei testar mais 2 perguntas:\n",
    "\n",
    "1ª Existiam mais mulheres na primeira classe?(Uma possivel explicação para os dois terem gerado maior sobrevivência)\n",
    "\n",
    "2ª Existiam mais crianças na terceira classe?(considerando que o sexo da criança é um interesse menor na sua sobrevivência)"
   ]
  },
  {
   "cell_type": "markdown",
   "metadata": {},
   "source": [
    "# Gráficos"
   ]
  },
  {
   "cell_type": "markdown",
   "metadata": {},
   "source": [
    "começarei plotando um gráfico q mostre esta relação entre sexo e classe social."
   ]
  },
  {
   "cell_type": "code",
   "execution_count": 12,
   "metadata": {},
   "outputs": [
    {
     "data": {
      "text/plain": [
       "array([<matplotlib.axes._subplots.AxesSubplot object at 0x7fe300eb97d0>,\n",
       "       <matplotlib.axes._subplots.AxesSubplot object at 0x7fe2fdaf1510>], dtype=object)"
      ]
     },
     "execution_count": 12,
     "metadata": {},
     "output_type": "execute_result"
    },
    {
     "data": {
      "image/png": "[encoded data removed]",
      "text/plain": [
       "<matplotlib.figure.Figure at 0x7fe300eb9110>"
      ]
     },
     "metadata": {},
     "output_type": "display_data"
    }
   ],
   "source": [
    "#código para imprimir o gráfico. Primeiro preparo os dados na variavel Figura\n",
    "Figura=pd.DataFrame({'female': [0,0,0],'male':[0,0,0]})\n",
    "def Conta_Classe_Se(Alvo1,Alvo2):\n",
    "    \"\"\"Conta quantas vezes aquele aquele elemento pertenceu a aquela classe\n",
    "     Args:\n",
    "        param1 (int): Classe que pertence(0, 1 ou 2).\n",
    "        param2 (str): grupo que pertence a classe \n",
    "\n",
    "    Returns:\n",
    "        nada útil só muda a váriavel global Figura que precisa estar num formato como:\n",
    "        pd.DataFrame({'female': [0,0,0],'male':[0,0,0]}).\n",
    "    \"\"\"\n",
    "    if(not pd.isnull(Alvo2)):\n",
    "        Figura.loc[Alvo1,Alvo2]+=1\n",
    "    return 0\n",
    "Titanic_data_raw.apply(lambda row: Conta_Classe_Se(row['Pclass']-1,row['Sex']), axis= 1)\n",
    "labels=['1 Classe', '2 Classe', '3 Classe']\n",
    "Figura.plot.pie(title='Divisao por classe social entre mulheres e homens',labels=labels,subplots=True,legend=False)"
   ]
  },
  {
   "cell_type": "markdown",
   "metadata": {},
   "source": [
    "Como nota-se no gráfico. As mulheres eram maioria na primeira classe. Logo isso pode ter ajudado elas terem sobrevivido. Porém a diferença é pouca. Antes de analisar isso irei executar o mesmo grafico para crianças. Lembrando que True significa que é maior de idade."
   ]
  },
  {
   "cell_type": "code",
   "execution_count": 13,
   "metadata": {},
   "outputs": [
    {
     "data": {
      "text/plain": [
       "array([<matplotlib.axes._subplots.AxesSubplot object at 0x7fe300f04790>,\n",
       "       <matplotlib.axes._subplots.AxesSubplot object at 0x7fe2fd96f090>], dtype=object)"
      ]
     },
     "execution_count": 13,
     "metadata": {},
     "output_type": "execute_result"
    },
    {
     "data": {
      "image/png": "[encoded data removed]",
      "text/plain": [
       "<matplotlib.figure.Figure at 0x7fe339728290>"
      ]
     },
     "metadata": {},
     "output_type": "display_data"
    }
   ],
   "source": [
    "#executo mesma operações de anteriormente. N transformarei em função por ser só 2 vezes que aplicarei isso\n",
    "Figura=pd.DataFrame({'Menor': [0,0,0],'Maior':[0,0,0]})\n",
    "Titanic_data_raw.apply(lambda row: Conta_Classe_Se(row['Pclass']-1,row['Age_group']), axis= 1)\n",
    "labels=['1 Classe', '2 Classe', '3 Classe']\n",
    "Figura.plot.pie(title= u'Divisao por classe social entre adultos e crianças',labels=labels,subplots=True,legend=False)"
   ]
  },
  {
   "cell_type": "markdown",
   "metadata": {},
   "source": [
    "ou seja. Em nossos dados tinhamos muitas crianças na terceira classe. O que com grande possibilidade alterou nosso resultado. Irei fazer a analise por classe tanto para a idade quanto para o sexo para ver se há diferenças nos resultados. Plotarei primeiro o gráfico relacionando essas variáveis.\n"
   ]
  },
  {
   "cell_type": "code",
   "execution_count": 14,
   "metadata": {},
   "outputs": [
    {
     "data": {
      "image/png": "[encoded data removed]",
      "text/plain": [
       "<matplotlib.figure.Figure at 0x7fe300f51cd0>"
      ]
     },
     "metadata": {},
     "output_type": "display_data"
    }
   ],
   "source": [
    "#funcao vista na documentação do sns\n",
    "#ploto o grafico e o configuro para ficar mais legivel\n",
    "\n",
    "Figura=sns.pointplot(x='Sex', y='Survived', hue='Pclass',data=Titanic_data_raw)\n",
    "titulo = u'média de pessoas que sobreviveram com relação ao sexo'\n",
    "Figura.axes.set_title(titulo ,fontsize=20,color=\"black\",alpha=1)\n",
    "Figura.axes.set_xlabel('Sexo',fontsize=20)\n",
    "Figura.axes.set_ylabel(u'proporçao de sobreviventes',fontsize=20)\n",
    "Figura.tick_params(labelsize=14,labelcolor=\"black\")\n",
    "plt.show()"
   ]
  },
  {
   "cell_type": "markdown",
   "metadata": {},
   "source": [
    "nota-se que sempre há aumento na sobrevivência nos nossos dados sobre as mulheres. Nesse gráfico em especifico fica evidente o aumento da sobrevivência para a segunda classe. plotarei o mesmo gráfico mas para crianças e mulheres agora."
   ]
  },
  {
   "cell_type": "code",
   "execution_count": 15,
   "metadata": {},
   "outputs": [
    {
     "data": {
      "image/png": "[encoded data removed]",
      "text/plain": [
       "<matplotlib.figure.Figure at 0x7fe2fdb16c10>"
      ]
     },
     "metadata": {},
     "output_type": "display_data"
    }
   ],
   "source": [
    "#funcao vista na documentação do sns\n",
    "#ploto o grafico e o configuro para ficar mais legivel\n",
    "\n",
    "Figura=sns.pointplot(x='Age_group', y='Survived', hue='Pclass',data=Titanic_data_raw)\n",
    "titulo = u'média de pessoas que sobreviveram com relação a faixa etária'\n",
    "Figura.axes.set_title(titulo ,fontsize=20,color=\"black\",alpha=1)\n",
    "Figura.axes.set_xlabel('Sexo',fontsize=20)\n",
    "Figura.axes.set_ylabel(u'proporçao de sobreviventes',fontsize=20)\n",
    "Figura.tick_params(labelsize=14,labelcolor=\"black\")\n",
    "plt.show()"
   ]
  },
  {
   "cell_type": "markdown",
   "metadata": {},
   "source": [
    "O comportamento para o sexo é razoavelmente esperado. Nota-se a grande queda da sobrevivência de mulheres da terceira classe. Mas o comportamento da idade foi muito estranho. As crianças apresentaram um grande desvio padrão na sua taixa de sobrevivência. Irei plotar o Tamanho das amostras em busca de informação."
   ]
  },
  {
   "cell_type": "markdown",
   "metadata": {},
   "source": [
    "# 2ª Análise"
   ]
  },
  {
   "cell_type": "code",
   "execution_count": 16,
   "metadata": {},
   "outputs": [
    {
     "name": "stdout",
     "output_type": "stream",
     "text": [
      "Age_group  Pclass\n",
      "Maior      1         182\n",
      "           2         156\n",
      "           3         307\n",
      "Menor      1           4\n",
      "           2          17\n",
      "           3          48\n",
      "Name: Survived, dtype: int64\n"
     ]
    }
   ],
   "source": [
    "print Titanic_data_raw.groupby(['Age_group', 'Pclass'])['Survived'].count()"
   ]
  },
  {
   "cell_type": "markdown",
   "metadata": {},
   "source": [
    "os dados das crianças de primeira e segunda classe são poucos. Uma possivel explicação para o porquê as crianças de segunda classe tiveram mais salvação do que as de primeira seja por elas terem as mães presentes e as da primeira estarem mais com as babás. Analisando os  dados Parch junto com a idade:\n"
   ]
  },
  {
   "cell_type": "code",
   "execution_count": 17,
   "metadata": {},
   "outputs": [
    {
     "name": "stdout",
     "output_type": "stream",
     "text": [
      "Age_group  Pclass  Parch\n",
      "Maior      1       0        0.641791\n",
      "                   1        0.666667\n",
      "                   2        0.764706\n",
      "                   4        0.000000\n",
      "           2       0        0.357724\n",
      "                   1        0.619048\n",
      "                   2        0.700000\n",
      "                   3        1.000000\n",
      "           3       0        0.206897\n",
      "                   1        0.208333\n",
      "                   2        0.400000\n",
      "                   3        0.333333\n",
      "                   4        0.000000\n",
      "                   5        0.200000\n",
      "                   6        0.000000\n",
      "Menor      1       2        0.750000\n",
      "           2       1        1.000000\n",
      "                   2        1.000000\n",
      "           3       0        0.666667\n",
      "                   1        0.500000\n",
      "                   2        0.285714\n",
      "Name: Survived, dtype: float64\n"
     ]
    }
   ],
   "source": [
    "print Titanic_data_raw.groupby(['Age_group','Pclass','Parch'])['Survived'].mean()\n"
   ]
  },
  {
   "cell_type": "markdown",
   "metadata": {},
   "source": [
    "Notamos que essa hipótese é inviável. As crianças da primeira e segunda classe nunca estavam sem os país. Analisando o tamanho da amostra espero ver se há dados na terceira classe para alguma análise do impacto da existência de país."
   ]
  },
  {
   "cell_type": "code",
   "execution_count": 18,
   "metadata": {},
   "outputs": [
    {
     "data": {
      "text/plain": [
       "Age_group  Pclass  Parch\n",
       "Maior      1       0        134\n",
       "                   1         30\n",
       "                   2         17\n",
       "                   4          1\n",
       "           2       0        123\n",
       "                   1         21\n",
       "                   2         10\n",
       "                   3          2\n",
       "           3       0        261\n",
       "                   1         24\n",
       "                   2         10\n",
       "                   3          3\n",
       "                   4          3\n",
       "                   5          5\n",
       "                   6          1\n",
       "Menor      1       2          4\n",
       "           2       1         11\n",
       "                   2          6\n",
       "           3       0          3\n",
       "                   1         24\n",
       "                   2         21\n",
       "Name: Survived, dtype: int64"
      ]
     },
     "execution_count": 18,
     "metadata": {},
     "output_type": "execute_result"
    }
   ],
   "source": [
    "Titanic_data_raw.groupby(['Age_group','Pclass','Parch'])['Survived'].count()"
   ]
  },
  {
   "cell_type": "markdown",
   "metadata": {},
   "source": [
    "Infelizmente havia somente 3 crianças sem os país na terceira classe. O que me faz acreditar que seria muito difícil  por conta da baixa quantidade de dados obter informação relevante."
   ]
  },
  {
   "cell_type": "markdown",
   "metadata": {},
   "source": [
    "Será analisado os dados das mulheres portanto. Já que estes são mais abundantes. será analisado se ser mulher mas da terceira classe te torna mais ou menos capaz de sobreviver."
   ]
  },
  {
   "cell_type": "code",
   "execution_count": 19,
   "metadata": {
    "scrolled": false
   },
   "outputs": [
    {
     "name": "stdout",
     "output_type": "stream",
     "text": [
      "Pessoas na primeira classe \n",
      "        count      mean       std  min  25%  50%  75%  max\n",
      "Sex                                                       \n",
      "female   85.0  0.964706  0.185617  0.0  1.0  1.0  1.0  1.0\n",
      "male    101.0  0.396040  0.491512  0.0  0.0  0.0  1.0  1.0 \n",
      "\n",
      "\n",
      "\n",
      "Pessoas na Segunda classe \n",
      "        count      mean       std  min  25%  50%  75%  max\n",
      "Sex                                                       \n",
      "female   74.0  0.918919  0.274823  0.0  1.0  1.0  1.0  1.0\n",
      "male     99.0  0.151515  0.360375  0.0  0.0  0.0  0.0  1.0 \n",
      "\n",
      "\n",
      "\n",
      "Pessoas na terceira classe \n",
      "        count      mean       std  min  25%  50%  75%  max\n",
      "Sex                                                       \n",
      "female  102.0  0.460784  0.500921  0.0  0.0  0.0  1.0  1.0\n",
      "male    253.0  0.150198  0.357973  0.0  0.0  0.0  0.0  1.0\n"
     ]
    }
   ],
   "source": [
    "#nessa sessão crio dataframes contendo os dados somente para cada classe. Prevendo que eles podem ser úteis \n",
    "#para uma análise por classe \n",
    "\n",
    "\n",
    "Df_Classe1=Titanic_data_raw.copy()\n",
    "Df_Classe1=(Titanic_data_raw[Titanic_data_raw['Pclass']==1])\n",
    "Df_Classe1=Df_Classe1.dropna()\n",
    "print 'Pessoas na primeira classe', '\\n',(Df_Classe1.groupby(['Sex'])['Survived']).describe(),'\\n\\n\\n'\n",
    "Df_Classe2=Titanic_data_raw.copy()\n",
    "Df_Classe2=(Titanic_data_raw[Titanic_data_raw['Pclass']==2]).dropna()\n",
    "Df_Classe2=Df_Classe2.dropna()\n",
    "print 'Pessoas na Segunda classe', '\\n',(Df_Classe2.groupby(['Sex'])['Survived']).describe(),'\\n\\n\\n'\n",
    "Df_Classe3=Titanic_data_raw.copy()\n",
    "Df_Classe3=(Titanic_data_raw[Titanic_data_raw['Pclass']==3]).dropna()\n",
    "Df_Classe3=Df_Classe3.dropna()\n",
    "print 'Pessoas na terceira classe', '\\n',(Df_Classe3.groupby(['Sex'])['Survived']).describe()"
   ]
  },
  {
   "cell_type": "markdown",
   "metadata": {},
   "source": [
    "Pela tabela nota-se que o comportamento foi conforme o esperado. Tentarei pegar o caso extremo de uma mulher da terceira classe e verificar se mesmo assim ela tem mais chance de viver que um homem, a compararei com homens de cada uma das classes e da população geral. A hipótese nula é sempre que a população de  mulheres da terceira classe sobreviverão o mesmo que os homens da situação em questão: $\\mu_{mulheres_3}=\\mu_{homens}$"
   ]
  },
  {
   "cell_type": "code",
   "execution_count": 20,
   "metadata": {},
   "outputs": [
    {
     "name": "stdout",
     "output_type": "stream",
     "text": [
      "Mulheres da terceira classe versus: \n",
      "\n",
      " 1ª Classe:  Ttest_indResult(statistic=-0.929406399227516, pvalue=0.35379333031765492) \n",
      "\n",
      " 2ª Classe:  Ttest_indResult(statistic=-5.0117457833777843, pvalue=1.1886032017080196e-06) \n",
      "\n",
      " 3ª Classe:  Ttest_indResult(statistic=-6.5534628814034992, pvalue=1.993817017245084e-10) \n",
      "\n",
      " Homens sem restrição:  Ttest_indResult(statistic=-5.5025842096127819, pvalue=5.7317122462286683e-08) \n",
      "\n"
     ]
    }
   ],
   "source": [
    "print u'Mulheres da terceira classe versus:', '\\n'\n",
    "print u' 1ª Classe: ',T_estatistica(Df_Classe1,Df_Classe3,'Sex','Sex','male','female'), '\\n'\n",
    "print u' 2ª Classe: ',T_estatistica(Df_Classe2,Df_Classe3,'Sex','Sex','male','female'), '\\n'\n",
    "print u' 3ª Classe: ',T_estatistica(Df_Classe3,Df_Classe3,'Sex','Sex','male','female'), '\\n'\n",
    "print u' Homens sem restrição: ',T_estatistica(Titanic_data_raw,Df_Classe3,'Sex','Sex','male','female'), '\\n'"
   ]
  },
  {
   "cell_type": "markdown",
   "metadata": {},
   "source": [
    "Calculo da probabilidade de se a hipótese nula pode ser anulada. Lembrando que as hipóteses e o $\\alpha$ crítico permanecem inalterados($\\alpha=0.05$)\n",
    "\n",
    "$P_1<0.3538$\n",
    "\n",
    "$P_2<0.0001$\n",
    "\n",
    "$P_3<0.0001$\n",
    "\n",
    "$P_t<0.0001$\n",
    "\n",
    "Como os $P<P_c=0.025$ para todos os casos menos para os homens da primeira classe. Conseguimos eliminar para esses casos a hipótese nula. O mais importante era o da população total de homens. O que mostra que mesmo sendo da terceira classe houve um benefício em ser mulher, mas isso não se verificou ao se comparar com os homens da primeira classe. O que na teoria da época não era para ter acontecido."
   ]
  },
  {
   "cell_type": "markdown",
   "metadata": {},
   "source": [
    "#   Conclusão:\n",
    "    \n",
    "    \n",
    "   Ao longo dessa analise comprovamos que ser mulher, ser criança e alta classe tem influência na sua chance de sobreviver. Não foi obtido os comparativos com a classe e a faixa etária pela baixa quantidade de dados. Porém, para as mulheres, foi obtido que elas sempre se salvam mais que os homens, menos quando comparadas aos homens da primeira classe. Aonde o teste t não foi capaz de anular a hipótese nula.\n",
    "   \n",
    "   É importante resaltar que tivemos pessoas cortadas da análise na fase de preparação de dados e que o número total de pessoas no arquivo original (891) já era menor que o número de pessoas no Titanic. O que concerteza diminui a precisão das nossas conclusões.\n",
    "   \n",
    "   Outro fator de risco é variaveis ocultas. Me intriga saber o número de funcionarios e a localização geografica das pessoas poderia ser útil também.\n",
    "    Apesar dos contra-tempos, obtemos informações com probabilidades muito baixas de estarem erradas."
   ]
  }
 ],
 "metadata": {
  "kernelspec": {
   "display_name": "Python 2",
   "language": "python",
   "name": "python2"
  },
  "language_info": {
   "codemirror_mode": {
    "name": "ipython",
    "version": 2
   },
   "file_extension": ".py",
   "mimetype": "text/x-python",
   "name": "python",
   "nbconvert_exporter": "python",
   "pygments_lexer": "ipython2",
   "version": "2.7.13"
  }
 },
 "nbformat": 4,
 "nbformat_minor": 2
}
